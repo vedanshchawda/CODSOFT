{
 "cells": [
  {
   "cell_type": "markdown",
   "id": "dadaa73e",
   "metadata": {
    "papermill": {
     "duration": 0.01873,
     "end_time": "2023-08-24T06:50:41.684954",
     "exception": false,
     "start_time": "2023-08-24T06:50:41.666224",
     "status": "completed"
    },
    "tags": []
   },
   "source": [
    "# **MOVIE RATING PREDICTION**"
   ]
  },
  {
   "cell_type": "markdown",
   "id": "951e90b5",
   "metadata": {
    "papermill": {
     "duration": 0.017563,
     "end_time": "2023-08-24T06:50:41.720710",
     "exception": false,
     "start_time": "2023-08-24T06:50:41.703147",
     "status": "completed"
    },
    "tags": []
   },
   "source": [
    "**Gathering:-**"
   ]
  },
  {
   "cell_type": "code",
   "execution_count": 1,
   "id": "0b310186",
   "metadata": {
    "execution": {
     "iopub.execute_input": "2023-08-24T06:50:41.759950Z",
     "iopub.status.busy": "2023-08-24T06:50:41.759494Z",
     "iopub.status.idle": "2023-08-24T06:50:41.772219Z",
     "shell.execute_reply": "2023-08-24T06:50:41.771159Z"
    },
    "papermill": {
     "duration": 0.035165,
     "end_time": "2023-08-24T06:50:41.775162",
     "exception": false,
     "start_time": "2023-08-24T06:50:41.739997",
     "status": "completed"
    },
    "tags": []
   },
   "outputs": [],
   "source": [
    "import numpy as np\n",
    "import pandas as pd"
   ]
  },
  {
   "cell_type": "code",
   "execution_count": 2,
   "id": "ad8fe119",
   "metadata": {
    "execution": {
     "iopub.execute_input": "2023-08-24T06:50:41.814308Z",
     "iopub.status.busy": "2023-08-24T06:50:41.813811Z",
     "iopub.status.idle": "2023-08-24T06:50:41.950243Z",
     "shell.execute_reply": "2023-08-24T06:50:41.949019Z"
    },
    "papermill": {
     "duration": 0.159569,
     "end_time": "2023-08-24T06:50:41.953591",
     "exception": false,
     "start_time": "2023-08-24T06:50:41.794022",
     "status": "completed"
    },
    "tags": []
   },
   "outputs": [
    {
     "data": {
      "text/html": [
       "<div>\n",
       "<style scoped>\n",
       "    .dataframe tbody tr th:only-of-type {\n",
       "        vertical-align: middle;\n",
       "    }\n",
       "\n",
       "    .dataframe tbody tr th {\n",
       "        vertical-align: top;\n",
       "    }\n",
       "\n",
       "    .dataframe thead th {\n",
       "        text-align: right;\n",
       "    }\n",
       "</style>\n",
       "<table border=\"1\" class=\"dataframe\">\n",
       "  <thead>\n",
       "    <tr style=\"text-align: right;\">\n",
       "      <th></th>\n",
       "      <th>Name</th>\n",
       "      <th>Year</th>\n",
       "      <th>Duration</th>\n",
       "      <th>Genre</th>\n",
       "      <th>Rating</th>\n",
       "      <th>Votes</th>\n",
       "      <th>Director</th>\n",
       "      <th>Actor 1</th>\n",
       "      <th>Actor 2</th>\n",
       "      <th>Actor 3</th>\n",
       "    </tr>\n",
       "  </thead>\n",
       "  <tbody>\n",
       "    <tr>\n",
       "      <th>0</th>\n",
       "      <td></td>\n",
       "      <td>NaN</td>\n",
       "      <td>NaN</td>\n",
       "      <td>Drama</td>\n",
       "      <td>NaN</td>\n",
       "      <td>NaN</td>\n",
       "      <td>J.S. Randhawa</td>\n",
       "      <td>Manmauji</td>\n",
       "      <td>Birbal</td>\n",
       "      <td>Rajendra Bhatia</td>\n",
       "    </tr>\n",
       "    <tr>\n",
       "      <th>1</th>\n",
       "      <td>#Gadhvi (He thought he was Gandhi)</td>\n",
       "      <td>(2019)</td>\n",
       "      <td>109 min</td>\n",
       "      <td>Drama</td>\n",
       "      <td>7.0</td>\n",
       "      <td>8</td>\n",
       "      <td>Gaurav Bakshi</td>\n",
       "      <td>Rasika Dugal</td>\n",
       "      <td>Vivek Ghamande</td>\n",
       "      <td>Arvind Jangid</td>\n",
       "    </tr>\n",
       "    <tr>\n",
       "      <th>2</th>\n",
       "      <td>#Homecoming</td>\n",
       "      <td>(2021)</td>\n",
       "      <td>90 min</td>\n",
       "      <td>Drama, Musical</td>\n",
       "      <td>NaN</td>\n",
       "      <td>NaN</td>\n",
       "      <td>Soumyajit Majumdar</td>\n",
       "      <td>Sayani Gupta</td>\n",
       "      <td>Plabita Borthakur</td>\n",
       "      <td>Roy Angana</td>\n",
       "    </tr>\n",
       "    <tr>\n",
       "      <th>3</th>\n",
       "      <td>#Yaaram</td>\n",
       "      <td>(2019)</td>\n",
       "      <td>110 min</td>\n",
       "      <td>Comedy, Romance</td>\n",
       "      <td>4.4</td>\n",
       "      <td>35</td>\n",
       "      <td>Ovais Khan</td>\n",
       "      <td>Prateik</td>\n",
       "      <td>Ishita Raj</td>\n",
       "      <td>Siddhant Kapoor</td>\n",
       "    </tr>\n",
       "    <tr>\n",
       "      <th>4</th>\n",
       "      <td>...And Once Again</td>\n",
       "      <td>(2010)</td>\n",
       "      <td>105 min</td>\n",
       "      <td>Drama</td>\n",
       "      <td>NaN</td>\n",
       "      <td>NaN</td>\n",
       "      <td>Amol Palekar</td>\n",
       "      <td>Rajat Kapoor</td>\n",
       "      <td>Rituparna Sengupta</td>\n",
       "      <td>Antara Mali</td>\n",
       "    </tr>\n",
       "  </tbody>\n",
       "</table>\n",
       "</div>"
      ],
      "text/plain": [
       "                                 Name    Year Duration            Genre  \\\n",
       "0                                         NaN      NaN            Drama   \n",
       "1  #Gadhvi (He thought he was Gandhi)  (2019)  109 min            Drama   \n",
       "2                         #Homecoming  (2021)   90 min   Drama, Musical   \n",
       "3                             #Yaaram  (2019)  110 min  Comedy, Romance   \n",
       "4                   ...And Once Again  (2010)  105 min            Drama   \n",
       "\n",
       "   Rating Votes            Director       Actor 1             Actor 2  \\\n",
       "0     NaN   NaN       J.S. Randhawa      Manmauji              Birbal   \n",
       "1     7.0     8       Gaurav Bakshi  Rasika Dugal      Vivek Ghamande   \n",
       "2     NaN   NaN  Soumyajit Majumdar  Sayani Gupta   Plabita Borthakur   \n",
       "3     4.4    35          Ovais Khan       Prateik          Ishita Raj   \n",
       "4     NaN   NaN        Amol Palekar  Rajat Kapoor  Rituparna Sengupta   \n",
       "\n",
       "           Actor 3  \n",
       "0  Rajendra Bhatia  \n",
       "1    Arvind Jangid  \n",
       "2       Roy Angana  \n",
       "3  Siddhant Kapoor  \n",
       "4      Antara Mali  "
      ]
     },
     "execution_count": 2,
     "metadata": {},
     "output_type": "execute_result"
    }
   ],
   "source": [
    "movie_data = pd.read_csv('D:\\\\codsoft\\\\Movie Rating Prediction System\\\\train.csv', encoding='latin1')\n",
    "movie_data.head()\n"
   ]
  },
  {
   "cell_type": "markdown",
   "id": "24f921ef",
   "metadata": {
    "papermill": {
     "duration": 0.018095,
     "end_time": "2023-08-24T06:50:41.990073",
     "exception": false,
     "start_time": "2023-08-24T06:50:41.971978",
     "status": "completed"
    },
    "tags": []
   },
   "source": [
    "**PREPROCESSING:-**"
   ]
  },
  {
   "cell_type": "code",
   "execution_count": 3,
   "id": "d41bb785",
   "metadata": {
    "execution": {
     "iopub.execute_input": "2023-08-24T06:50:42.029402Z",
     "iopub.status.busy": "2023-08-24T06:50:42.028600Z",
     "iopub.status.idle": "2023-08-24T06:50:42.050068Z",
     "shell.execute_reply": "2023-08-24T06:50:42.048784Z"
    },
    "papermill": {
     "duration": 0.043978,
     "end_time": "2023-08-24T06:50:42.052449",
     "exception": false,
     "start_time": "2023-08-24T06:50:42.008471",
     "status": "completed"
    },
    "tags": []
   },
   "outputs": [
    {
     "data": {
      "text/html": [
       "<div>\n",
       "<style scoped>\n",
       "    .dataframe tbody tr th:only-of-type {\n",
       "        vertical-align: middle;\n",
       "    }\n",
       "\n",
       "    .dataframe tbody tr th {\n",
       "        vertical-align: top;\n",
       "    }\n",
       "\n",
       "    .dataframe thead th {\n",
       "        text-align: right;\n",
       "    }\n",
       "</style>\n",
       "<table border=\"1\" class=\"dataframe\">\n",
       "  <thead>\n",
       "    <tr style=\"text-align: right;\">\n",
       "      <th></th>\n",
       "      <th>Rating</th>\n",
       "    </tr>\n",
       "  </thead>\n",
       "  <tbody>\n",
       "    <tr>\n",
       "      <th>count</th>\n",
       "      <td>7919.000000</td>\n",
       "    </tr>\n",
       "    <tr>\n",
       "      <th>mean</th>\n",
       "      <td>5.841621</td>\n",
       "    </tr>\n",
       "    <tr>\n",
       "      <th>std</th>\n",
       "      <td>1.381777</td>\n",
       "    </tr>\n",
       "    <tr>\n",
       "      <th>min</th>\n",
       "      <td>1.100000</td>\n",
       "    </tr>\n",
       "    <tr>\n",
       "      <th>25%</th>\n",
       "      <td>4.900000</td>\n",
       "    </tr>\n",
       "    <tr>\n",
       "      <th>50%</th>\n",
       "      <td>6.000000</td>\n",
       "    </tr>\n",
       "    <tr>\n",
       "      <th>75%</th>\n",
       "      <td>6.800000</td>\n",
       "    </tr>\n",
       "    <tr>\n",
       "      <th>max</th>\n",
       "      <td>10.000000</td>\n",
       "    </tr>\n",
       "  </tbody>\n",
       "</table>\n",
       "</div>"
      ],
      "text/plain": [
       "            Rating\n",
       "count  7919.000000\n",
       "mean      5.841621\n",
       "std       1.381777\n",
       "min       1.100000\n",
       "25%       4.900000\n",
       "50%       6.000000\n",
       "75%       6.800000\n",
       "max      10.000000"
      ]
     },
     "execution_count": 3,
     "metadata": {},
     "output_type": "execute_result"
    }
   ],
   "source": [
    "movie_data.describe()"
   ]
  },
  {
   "cell_type": "code",
   "execution_count": 4,
   "id": "1520b2f5",
   "metadata": {
    "execution": {
     "iopub.execute_input": "2023-08-24T06:50:42.092010Z",
     "iopub.status.busy": "2023-08-24T06:50:42.091233Z",
     "iopub.status.idle": "2023-08-24T06:50:42.099681Z",
     "shell.execute_reply": "2023-08-24T06:50:42.098584Z"
    },
    "papermill": {
     "duration": 0.031042,
     "end_time": "2023-08-24T06:50:42.102034",
     "exception": false,
     "start_time": "2023-08-24T06:50:42.070992",
     "status": "completed"
    },
    "tags": []
   },
   "outputs": [
    {
     "data": {
      "text/plain": [
       "Name         object\n",
       "Year         object\n",
       "Duration     object\n",
       "Genre        object\n",
       "Rating      float64\n",
       "Votes        object\n",
       "Director     object\n",
       "Actor 1      object\n",
       "Actor 2      object\n",
       "Actor 3      object\n",
       "dtype: object"
      ]
     },
     "execution_count": 4,
     "metadata": {},
     "output_type": "execute_result"
    }
   ],
   "source": [
    "movie_data.dtypes"
   ]
  },
  {
   "cell_type": "code",
   "execution_count": 5,
   "id": "757d710a",
   "metadata": {
    "execution": {
     "iopub.execute_input": "2023-08-24T06:50:42.142822Z",
     "iopub.status.busy": "2023-08-24T06:50:42.141653Z",
     "iopub.status.idle": "2023-08-24T06:50:42.195464Z",
     "shell.execute_reply": "2023-08-24T06:50:42.194584Z"
    },
    "papermill": {
     "duration": 0.076869,
     "end_time": "2023-08-24T06:50:42.197843",
     "exception": false,
     "start_time": "2023-08-24T06:50:42.120974",
     "status": "completed"
    },
    "tags": []
   },
   "outputs": [
    {
     "data": {
      "text/plain": [
       "Name           0\n",
       "Year         528\n",
       "Duration    8269\n",
       "Genre       1877\n",
       "Rating      7590\n",
       "Votes       7589\n",
       "Director     525\n",
       "Actor 1     1617\n",
       "Actor 2     2384\n",
       "Actor 3     3144\n",
       "dtype: int64"
      ]
     },
     "execution_count": 5,
     "metadata": {},
     "output_type": "execute_result"
    }
   ],
   "source": [
    "movie_data.isnull().sum()"
   ]
  },
  {
   "cell_type": "code",
   "execution_count": 6,
   "id": "2bb80aec",
   "metadata": {
    "execution": {
     "iopub.execute_input": "2023-08-24T06:50:42.237466Z",
     "iopub.status.busy": "2023-08-24T06:50:42.237009Z",
     "iopub.status.idle": "2023-08-24T06:50:42.243904Z",
     "shell.execute_reply": "2023-08-24T06:50:42.242463Z"
    },
    "papermill": {
     "duration": 0.02977,
     "end_time": "2023-08-24T06:50:42.246552",
     "exception": false,
     "start_time": "2023-08-24T06:50:42.216782",
     "status": "completed"
    },
    "tags": []
   },
   "outputs": [
    {
     "data": {
      "text/plain": [
       "(15509, 10)"
      ]
     },
     "execution_count": 6,
     "metadata": {},
     "output_type": "execute_result"
    }
   ],
   "source": [
    "movie_data.shape"
   ]
  },
  {
   "cell_type": "code",
   "execution_count": 7,
   "id": "b5b25274",
   "metadata": {
    "execution": {
     "iopub.execute_input": "2023-08-24T06:50:42.286840Z",
     "iopub.status.busy": "2023-08-24T06:50:42.286462Z",
     "iopub.status.idle": "2023-08-24T06:50:42.352655Z",
     "shell.execute_reply": "2023-08-24T06:50:42.351740Z"
    },
    "papermill": {
     "duration": 0.089238,
     "end_time": "2023-08-24T06:50:42.355324",
     "exception": false,
     "start_time": "2023-08-24T06:50:42.266086",
     "status": "completed"
    },
    "tags": []
   },
   "outputs": [
    {
     "data": {
      "text/html": [
       "<div>\n",
       "<style scoped>\n",
       "    .dataframe tbody tr th:only-of-type {\n",
       "        vertical-align: middle;\n",
       "    }\n",
       "\n",
       "    .dataframe tbody tr th {\n",
       "        vertical-align: top;\n",
       "    }\n",
       "\n",
       "    .dataframe thead th {\n",
       "        text-align: right;\n",
       "    }\n",
       "</style>\n",
       "<table border=\"1\" class=\"dataframe\">\n",
       "  <thead>\n",
       "    <tr style=\"text-align: right;\">\n",
       "      <th></th>\n",
       "      <th>Name</th>\n",
       "      <th>Year</th>\n",
       "      <th>Duration</th>\n",
       "      <th>Genre</th>\n",
       "      <th>Rating</th>\n",
       "      <th>Votes</th>\n",
       "      <th>Director</th>\n",
       "      <th>Actor 1</th>\n",
       "      <th>Actor 2</th>\n",
       "      <th>Actor 3</th>\n",
       "    </tr>\n",
       "  </thead>\n",
       "  <tbody>\n",
       "    <tr>\n",
       "      <th>1</th>\n",
       "      <td>#Gadhvi (He thought he was Gandhi)</td>\n",
       "      <td>(2019)</td>\n",
       "      <td>109 min</td>\n",
       "      <td>Drama</td>\n",
       "      <td>7.0</td>\n",
       "      <td>8</td>\n",
       "      <td>Gaurav Bakshi</td>\n",
       "      <td>Rasika Dugal</td>\n",
       "      <td>Vivek Ghamande</td>\n",
       "      <td>Arvind Jangid</td>\n",
       "    </tr>\n",
       "    <tr>\n",
       "      <th>3</th>\n",
       "      <td>#Yaaram</td>\n",
       "      <td>(2019)</td>\n",
       "      <td>110 min</td>\n",
       "      <td>Comedy, Romance</td>\n",
       "      <td>4.4</td>\n",
       "      <td>35</td>\n",
       "      <td>Ovais Khan</td>\n",
       "      <td>Prateik</td>\n",
       "      <td>Ishita Raj</td>\n",
       "      <td>Siddhant Kapoor</td>\n",
       "    </tr>\n",
       "    <tr>\n",
       "      <th>5</th>\n",
       "      <td>...Aur Pyaar Ho Gaya</td>\n",
       "      <td>(1997)</td>\n",
       "      <td>147 min</td>\n",
       "      <td>Comedy, Drama, Musical</td>\n",
       "      <td>4.7</td>\n",
       "      <td>827</td>\n",
       "      <td>Rahul Rawail</td>\n",
       "      <td>Bobby Deol</td>\n",
       "      <td>Aishwarya Rai Bachchan</td>\n",
       "      <td>Shammi Kapoor</td>\n",
       "    </tr>\n",
       "    <tr>\n",
       "      <th>6</th>\n",
       "      <td>...Yahaan</td>\n",
       "      <td>(2005)</td>\n",
       "      <td>142 min</td>\n",
       "      <td>Drama, Romance, War</td>\n",
       "      <td>7.4</td>\n",
       "      <td>1,086</td>\n",
       "      <td>Shoojit Sircar</td>\n",
       "      <td>Jimmy Sheirgill</td>\n",
       "      <td>Minissha Lamba</td>\n",
       "      <td>Yashpal Sharma</td>\n",
       "    </tr>\n",
       "    <tr>\n",
       "      <th>8</th>\n",
       "      <td>?: A Question Mark</td>\n",
       "      <td>(2012)</td>\n",
       "      <td>82 min</td>\n",
       "      <td>Horror, Mystery, Thriller</td>\n",
       "      <td>5.6</td>\n",
       "      <td>326</td>\n",
       "      <td>Allyson Patel</td>\n",
       "      <td>Yash Dave</td>\n",
       "      <td>Muntazir Ahmad</td>\n",
       "      <td>Kiran Bhatia</td>\n",
       "    </tr>\n",
       "  </tbody>\n",
       "</table>\n",
       "</div>"
      ],
      "text/plain": [
       "                                 Name    Year Duration  \\\n",
       "1  #Gadhvi (He thought he was Gandhi)  (2019)  109 min   \n",
       "3                             #Yaaram  (2019)  110 min   \n",
       "5                ...Aur Pyaar Ho Gaya  (1997)  147 min   \n",
       "6                           ...Yahaan  (2005)  142 min   \n",
       "8                  ?: A Question Mark  (2012)   82 min   \n",
       "\n",
       "                       Genre  Rating  Votes        Director          Actor 1  \\\n",
       "1                      Drama     7.0      8   Gaurav Bakshi     Rasika Dugal   \n",
       "3            Comedy, Romance     4.4     35      Ovais Khan          Prateik   \n",
       "5     Comedy, Drama, Musical     4.7    827    Rahul Rawail       Bobby Deol   \n",
       "6        Drama, Romance, War     7.4  1,086  Shoojit Sircar  Jimmy Sheirgill   \n",
       "8  Horror, Mystery, Thriller     5.6    326   Allyson Patel        Yash Dave   \n",
       "\n",
       "                  Actor 2          Actor 3  \n",
       "1          Vivek Ghamande    Arvind Jangid  \n",
       "3              Ishita Raj  Siddhant Kapoor  \n",
       "5  Aishwarya Rai Bachchan    Shammi Kapoor  \n",
       "6          Minissha Lamba   Yashpal Sharma  \n",
       "8          Muntazir Ahmad     Kiran Bhatia  "
      ]
     },
     "execution_count": 7,
     "metadata": {},
     "output_type": "execute_result"
    }
   ],
   "source": [
    "movie_data.dropna(inplace = True)\n",
    "movie_data.head(5)"
   ]
  },
  {
   "cell_type": "code",
   "execution_count": 8,
   "id": "b92129ac",
   "metadata": {
    "execution": {
     "iopub.execute_input": "2023-08-24T06:50:42.396410Z",
     "iopub.status.busy": "2023-08-24T06:50:42.395647Z",
     "iopub.status.idle": "2023-08-24T06:50:42.421381Z",
     "shell.execute_reply": "2023-08-24T06:50:42.420441Z"
    },
    "papermill": {
     "duration": 0.049434,
     "end_time": "2023-08-24T06:50:42.424078",
     "exception": false,
     "start_time": "2023-08-24T06:50:42.374644",
     "status": "completed"
    },
    "tags": []
   },
   "outputs": [
    {
     "data": {
      "text/plain": [
       "Name        0\n",
       "Year        0\n",
       "Duration    0\n",
       "Genre       0\n",
       "Rating      0\n",
       "Votes       0\n",
       "Director    0\n",
       "Actor 1     0\n",
       "Actor 2     0\n",
       "Actor 3     0\n",
       "dtype: int64"
      ]
     },
     "execution_count": 8,
     "metadata": {},
     "output_type": "execute_result"
    }
   ],
   "source": [
    "movie_data.isnull().sum()"
   ]
  },
  {
   "cell_type": "code",
   "execution_count": 9,
   "id": "12a1a92d",
   "metadata": {
    "execution": {
     "iopub.execute_input": "2023-08-24T06:50:42.466890Z",
     "iopub.status.busy": "2023-08-24T06:50:42.466169Z",
     "iopub.status.idle": "2023-08-24T06:50:42.472944Z",
     "shell.execute_reply": "2023-08-24T06:50:42.471803Z"
    },
    "papermill": {
     "duration": 0.031592,
     "end_time": "2023-08-24T06:50:42.475435",
     "exception": false,
     "start_time": "2023-08-24T06:50:42.443843",
     "status": "completed"
    },
    "tags": []
   },
   "outputs": [
    {
     "data": {
      "text/plain": [
       "(5659, 10)"
      ]
     },
     "execution_count": 9,
     "metadata": {},
     "output_type": "execute_result"
    }
   ],
   "source": [
    "movie_data.shape"
   ]
  },
  {
   "cell_type": "code",
   "execution_count": 55,
   "id": "cee33b9a",
   "metadata": {
    "execution": {
     "iopub.execute_input": "2023-08-24T06:50:42.518043Z",
     "iopub.status.busy": "2023-08-24T06:50:42.516619Z",
     "iopub.status.idle": "2023-08-24T06:50:42.550535Z",
     "shell.execute_reply": "2023-08-24T06:50:42.549291Z"
    },
    "papermill": {
     "duration": 0.058432,
     "end_time": "2023-08-24T06:50:42.553586",
     "exception": false,
     "start_time": "2023-08-24T06:50:42.495154",
     "status": "completed"
    },
    "tags": []
   },
   "outputs": [
    {
     "ename": "AttributeError",
     "evalue": "Can only use .str accessor with string values!",
     "output_type": "error",
     "traceback": [
      "\u001b[1;31m---------------------------------------------------------------------------\u001b[0m",
      "\u001b[1;31mAttributeError\u001b[0m                            Traceback (most recent call last)",
      "Cell \u001b[1;32mIn[55], line 1\u001b[0m\n\u001b[1;32m----> 1\u001b[0m movie_data[\u001b[39m'\u001b[39m\u001b[39mYear\u001b[39m\u001b[39m'\u001b[39m] \u001b[39m=\u001b[39m movie_data[\u001b[39m'\u001b[39;49m\u001b[39mYear\u001b[39;49m\u001b[39m'\u001b[39;49m]\u001b[39m.\u001b[39;49mstr\u001b[39m.\u001b[39mextract(\u001b[39m'\u001b[39m\u001b[39m(\u001b[39m\u001b[39m\\\u001b[39m\u001b[39md+)\u001b[39m\u001b[39m'\u001b[39m)  \n\u001b[0;32m      2\u001b[0m movie_data[\u001b[39m'\u001b[39m\u001b[39mYear\u001b[39m\u001b[39m'\u001b[39m] \u001b[39m=\u001b[39m pd\u001b[39m.\u001b[39mto_numeric(movie_data[\u001b[39m'\u001b[39m\u001b[39mYear\u001b[39m\u001b[39m'\u001b[39m], errors\u001b[39m=\u001b[39m\u001b[39m'\u001b[39m\u001b[39mcoerce\u001b[39m\u001b[39m'\u001b[39m)  \n",
      "File \u001b[1;32mc:\\Users\\X1 yoga\\AppData\\Local\\Programs\\Python\\Python311\\Lib\\site-packages\\pandas\\core\\generic.py:5989\u001b[0m, in \u001b[0;36mNDFrame.__getattr__\u001b[1;34m(self, name)\u001b[0m\n\u001b[0;32m   5982\u001b[0m \u001b[39mif\u001b[39;00m (\n\u001b[0;32m   5983\u001b[0m     name \u001b[39mnot\u001b[39;00m \u001b[39min\u001b[39;00m \u001b[39mself\u001b[39m\u001b[39m.\u001b[39m_internal_names_set\n\u001b[0;32m   5984\u001b[0m     \u001b[39mand\u001b[39;00m name \u001b[39mnot\u001b[39;00m \u001b[39min\u001b[39;00m \u001b[39mself\u001b[39m\u001b[39m.\u001b[39m_metadata\n\u001b[0;32m   5985\u001b[0m     \u001b[39mand\u001b[39;00m name \u001b[39mnot\u001b[39;00m \u001b[39min\u001b[39;00m \u001b[39mself\u001b[39m\u001b[39m.\u001b[39m_accessors\n\u001b[0;32m   5986\u001b[0m     \u001b[39mand\u001b[39;00m \u001b[39mself\u001b[39m\u001b[39m.\u001b[39m_info_axis\u001b[39m.\u001b[39m_can_hold_identifiers_and_holds_name(name)\n\u001b[0;32m   5987\u001b[0m ):\n\u001b[0;32m   5988\u001b[0m     \u001b[39mreturn\u001b[39;00m \u001b[39mself\u001b[39m[name]\n\u001b[1;32m-> 5989\u001b[0m \u001b[39mreturn\u001b[39;00m \u001b[39mobject\u001b[39;49m\u001b[39m.\u001b[39;49m\u001b[39m__getattribute__\u001b[39;49m(\u001b[39mself\u001b[39;49m, name)\n",
      "File \u001b[1;32mc:\\Users\\X1 yoga\\AppData\\Local\\Programs\\Python\\Python311\\Lib\\site-packages\\pandas\\core\\accessor.py:224\u001b[0m, in \u001b[0;36mCachedAccessor.__get__\u001b[1;34m(self, obj, cls)\u001b[0m\n\u001b[0;32m    221\u001b[0m \u001b[39mif\u001b[39;00m obj \u001b[39mis\u001b[39;00m \u001b[39mNone\u001b[39;00m:\n\u001b[0;32m    222\u001b[0m     \u001b[39m# we're accessing the attribute of the class, i.e., Dataset.geo\u001b[39;00m\n\u001b[0;32m    223\u001b[0m     \u001b[39mreturn\u001b[39;00m \u001b[39mself\u001b[39m\u001b[39m.\u001b[39m_accessor\n\u001b[1;32m--> 224\u001b[0m accessor_obj \u001b[39m=\u001b[39m \u001b[39mself\u001b[39;49m\u001b[39m.\u001b[39;49m_accessor(obj)\n\u001b[0;32m    225\u001b[0m \u001b[39m# Replace the property with the accessor object. Inspired by:\u001b[39;00m\n\u001b[0;32m    226\u001b[0m \u001b[39m# https://www.pydanny.com/cached-property.html\u001b[39;00m\n\u001b[0;32m    227\u001b[0m \u001b[39m# We need to use object.__setattr__ because we overwrite __setattr__ on\u001b[39;00m\n\u001b[0;32m    228\u001b[0m \u001b[39m# NDFrame\u001b[39;00m\n\u001b[0;32m    229\u001b[0m \u001b[39mobject\u001b[39m\u001b[39m.\u001b[39m\u001b[39m__setattr__\u001b[39m(obj, \u001b[39mself\u001b[39m\u001b[39m.\u001b[39m_name, accessor_obj)\n",
      "File \u001b[1;32mc:\\Users\\X1 yoga\\AppData\\Local\\Programs\\Python\\Python311\\Lib\\site-packages\\pandas\\core\\strings\\accessor.py:181\u001b[0m, in \u001b[0;36mStringMethods.__init__\u001b[1;34m(self, data)\u001b[0m\n\u001b[0;32m    178\u001b[0m \u001b[39mdef\u001b[39;00m \u001b[39m__init__\u001b[39m(\u001b[39mself\u001b[39m, data) \u001b[39m-\u001b[39m\u001b[39m>\u001b[39m \u001b[39mNone\u001b[39;00m:\n\u001b[0;32m    179\u001b[0m     \u001b[39mfrom\u001b[39;00m \u001b[39mpandas\u001b[39;00m\u001b[39m.\u001b[39;00m\u001b[39mcore\u001b[39;00m\u001b[39m.\u001b[39;00m\u001b[39marrays\u001b[39;00m\u001b[39m.\u001b[39;00m\u001b[39mstring_\u001b[39;00m \u001b[39mimport\u001b[39;00m StringDtype\n\u001b[1;32m--> 181\u001b[0m     \u001b[39mself\u001b[39m\u001b[39m.\u001b[39m_inferred_dtype \u001b[39m=\u001b[39m \u001b[39mself\u001b[39;49m\u001b[39m.\u001b[39;49m_validate(data)\n\u001b[0;32m    182\u001b[0m     \u001b[39mself\u001b[39m\u001b[39m.\u001b[39m_is_categorical \u001b[39m=\u001b[39m is_categorical_dtype(data\u001b[39m.\u001b[39mdtype)\n\u001b[0;32m    183\u001b[0m     \u001b[39mself\u001b[39m\u001b[39m.\u001b[39m_is_string \u001b[39m=\u001b[39m \u001b[39misinstance\u001b[39m(data\u001b[39m.\u001b[39mdtype, StringDtype)\n",
      "File \u001b[1;32mc:\\Users\\X1 yoga\\AppData\\Local\\Programs\\Python\\Python311\\Lib\\site-packages\\pandas\\core\\strings\\accessor.py:235\u001b[0m, in \u001b[0;36mStringMethods._validate\u001b[1;34m(data)\u001b[0m\n\u001b[0;32m    232\u001b[0m inferred_dtype \u001b[39m=\u001b[39m lib\u001b[39m.\u001b[39minfer_dtype(values, skipna\u001b[39m=\u001b[39m\u001b[39mTrue\u001b[39;00m)\n\u001b[0;32m    234\u001b[0m \u001b[39mif\u001b[39;00m inferred_dtype \u001b[39mnot\u001b[39;00m \u001b[39min\u001b[39;00m allowed_types:\n\u001b[1;32m--> 235\u001b[0m     \u001b[39mraise\u001b[39;00m \u001b[39mAttributeError\u001b[39;00m(\u001b[39m\"\u001b[39m\u001b[39mCan only use .str accessor with string values!\u001b[39m\u001b[39m\"\u001b[39m)\n\u001b[0;32m    236\u001b[0m \u001b[39mreturn\u001b[39;00m inferred_dtype\n",
      "\u001b[1;31mAttributeError\u001b[0m: Can only use .str accessor with string values!"
     ]
    }
   ],
   "source": [
    "movie_data['Year'] = movie_data['Year'].str.extract('(\\d+)')  \n",
    "movie_data['Year'] = pd.to_numeric(movie_data['Year'], errors='coerce')  \n"
   ]
  },
  {
   "cell_type": "code",
   "execution_count": 11,
   "id": "ca2d9ce8",
   "metadata": {
    "execution": {
     "iopub.execute_input": "2023-08-24T06:50:42.594923Z",
     "iopub.status.busy": "2023-08-24T06:50:42.594529Z",
     "iopub.status.idle": "2023-08-24T06:50:42.622307Z",
     "shell.execute_reply": "2023-08-24T06:50:42.621017Z"
    },
    "papermill": {
     "duration": 0.052007,
     "end_time": "2023-08-24T06:50:42.625377",
     "exception": false,
     "start_time": "2023-08-24T06:50:42.573370",
     "status": "completed"
    },
    "tags": []
   },
   "outputs": [],
   "source": [
    "movie_data['Duration'] = movie_data['Duration'].str.extract('(\\d+)')\n",
    "movie_data['Duration'] = pd.to_numeric(movie_data['Duration'], errors='coerce')"
   ]
  },
  {
   "cell_type": "code",
   "execution_count": 12,
   "id": "30b7ef92",
   "metadata": {
    "execution": {
     "iopub.execute_input": "2023-08-24T06:50:42.667188Z",
     "iopub.status.busy": "2023-08-24T06:50:42.666728Z",
     "iopub.status.idle": "2023-08-24T06:50:42.675366Z",
     "shell.execute_reply": "2023-08-24T06:50:42.674237Z"
    },
    "papermill": {
     "duration": 0.032412,
     "end_time": "2023-08-24T06:50:42.677943",
     "exception": false,
     "start_time": "2023-08-24T06:50:42.645531",
     "status": "completed"
    },
    "tags": []
   },
   "outputs": [
    {
     "data": {
      "text/plain": [
       "1    2019\n",
       "3    2019\n",
       "5    1997\n",
       "6    2005\n",
       "8    2012\n",
       "Name: Year, dtype: int64"
      ]
     },
     "execution_count": 12,
     "metadata": {},
     "output_type": "execute_result"
    }
   ],
   "source": [
    "movie_data[\"Year\"].head()"
   ]
  },
  {
   "cell_type": "code",
   "execution_count": 13,
   "id": "93b4e746",
   "metadata": {
    "execution": {
     "iopub.execute_input": "2023-08-24T06:50:42.719486Z",
     "iopub.status.busy": "2023-08-24T06:50:42.718680Z",
     "iopub.status.idle": "2023-08-24T06:50:42.726756Z",
     "shell.execute_reply": "2023-08-24T06:50:42.725863Z"
    },
    "papermill": {
     "duration": 0.031304,
     "end_time": "2023-08-24T06:50:42.728895",
     "exception": false,
     "start_time": "2023-08-24T06:50:42.697591",
     "status": "completed"
    },
    "tags": []
   },
   "outputs": [
    {
     "data": {
      "text/plain": [
       "1                        Drama\n",
       "3              Comedy, Romance\n",
       "5       Comedy, Drama, Musical\n",
       "6          Drama, Romance, War\n",
       "8    Horror, Mystery, Thriller\n",
       "Name: Genre, dtype: object"
      ]
     },
     "execution_count": 13,
     "metadata": {},
     "output_type": "execute_result"
    }
   ],
   "source": [
    "genre = movie_data['Genre']\n",
    "genre.head(5)"
   ]
  },
  {
   "cell_type": "code",
   "execution_count": 14,
   "id": "81436ead",
   "metadata": {
    "execution": {
     "iopub.execute_input": "2023-08-24T06:50:42.772233Z",
     "iopub.status.busy": "2023-08-24T06:50:42.771771Z",
     "iopub.status.idle": "2023-08-24T06:50:42.797649Z",
     "shell.execute_reply": "2023-08-24T06:50:42.796442Z"
    },
    "papermill": {
     "duration": 0.050592,
     "end_time": "2023-08-24T06:50:42.800041",
     "exception": false,
     "start_time": "2023-08-24T06:50:42.749449",
     "status": "completed"
    },
    "tags": []
   },
   "outputs": [
    {
     "data": {
      "text/html": [
       "<div>\n",
       "<style scoped>\n",
       "    .dataframe tbody tr th:only-of-type {\n",
       "        vertical-align: middle;\n",
       "    }\n",
       "\n",
       "    .dataframe tbody tr th {\n",
       "        vertical-align: top;\n",
       "    }\n",
       "\n",
       "    .dataframe thead th {\n",
       "        text-align: right;\n",
       "    }\n",
       "</style>\n",
       "<table border=\"1\" class=\"dataframe\">\n",
       "  <thead>\n",
       "    <tr style=\"text-align: right;\">\n",
       "      <th></th>\n",
       "      <th>0</th>\n",
       "      <th>1</th>\n",
       "      <th>2</th>\n",
       "    </tr>\n",
       "  </thead>\n",
       "  <tbody>\n",
       "    <tr>\n",
       "      <th>1</th>\n",
       "      <td>Drama</td>\n",
       "      <td>None</td>\n",
       "      <td>None</td>\n",
       "    </tr>\n",
       "    <tr>\n",
       "      <th>3</th>\n",
       "      <td>Comedy</td>\n",
       "      <td>Romance</td>\n",
       "      <td>None</td>\n",
       "    </tr>\n",
       "    <tr>\n",
       "      <th>5</th>\n",
       "      <td>Comedy</td>\n",
       "      <td>Drama</td>\n",
       "      <td>Musical</td>\n",
       "    </tr>\n",
       "    <tr>\n",
       "      <th>6</th>\n",
       "      <td>Drama</td>\n",
       "      <td>Romance</td>\n",
       "      <td>War</td>\n",
       "    </tr>\n",
       "    <tr>\n",
       "      <th>8</th>\n",
       "      <td>Horror</td>\n",
       "      <td>Mystery</td>\n",
       "      <td>Thriller</td>\n",
       "    </tr>\n",
       "  </tbody>\n",
       "</table>\n",
       "</div>"
      ],
      "text/plain": [
       "        0        1         2\n",
       "1   Drama     None      None\n",
       "3  Comedy  Romance      None\n",
       "5  Comedy    Drama   Musical\n",
       "6   Drama  Romance       War\n",
       "8  Horror  Mystery  Thriller"
      ]
     },
     "execution_count": 14,
     "metadata": {},
     "output_type": "execute_result"
    }
   ],
   "source": [
    "genres = movie_data['Genre'].str.split(', ', expand=True)\n",
    "genres.head(5)"
   ]
  },
  {
   "cell_type": "code",
   "execution_count": 15,
   "id": "021d826a",
   "metadata": {
    "execution": {
     "iopub.execute_input": "2023-08-24T06:50:42.842461Z",
     "iopub.status.busy": "2023-08-24T06:50:42.842063Z",
     "iopub.status.idle": "2023-08-24T06:50:42.858191Z",
     "shell.execute_reply": "2023-08-24T06:50:42.856945Z"
    },
    "papermill": {
     "duration": 0.040378,
     "end_time": "2023-08-24T06:50:42.860912",
     "exception": false,
     "start_time": "2023-08-24T06:50:42.820534",
     "status": "completed"
    },
    "tags": []
   },
   "outputs": [
    {
     "name": "stdout",
     "output_type": "stream",
     "text": [
      "Action: 1686\n",
      "Adventure: 277\n",
      "Animation: 40\n",
      "Biography: 115\n",
      "Comedy: 1344\n",
      "Crime: 875\n",
      "Documentary: 48\n",
      "Drama: 3796\n",
      "Family: 416\n",
      "Fantasy: 146\n",
      "History: 99\n",
      "Horror: 202\n",
      "Music: 53\n",
      "Musical: 412\n",
      "Mystery: 304\n",
      "News: 1\n",
      "Romance: 1380\n",
      "Sci-Fi: 32\n",
      "Sport: 40\n",
      "Thriller: 679\n",
      "War: 33\n",
      "Western: 1\n"
     ]
    }
   ],
   "source": [
    "genre_counts = {}\n",
    "for genre in genres.values.flatten():\n",
    "    if genre is not None:\n",
    "        if genre in genre_counts:\n",
    "            genre_counts[genre] += 1\n",
    "        else:\n",
    "            genre_counts[genre] = 1\n",
    "\n",
    "genereCounts = {genre: count for genre, count in sorted(genre_counts.items())}\n",
    "for genre, count in genereCounts.items():\n",
    "    print(f\"{genre}: {count}\")"
   ]
  },
  {
   "cell_type": "code",
   "execution_count": 16,
   "id": "2f786696",
   "metadata": {
    "execution": {
     "iopub.execute_input": "2023-08-24T06:50:42.903245Z",
     "iopub.status.busy": "2023-08-24T06:50:42.902764Z",
     "iopub.status.idle": "2023-08-24T06:50:42.915127Z",
     "shell.execute_reply": "2023-08-24T06:50:42.913984Z"
    },
    "papermill": {
     "duration": 0.036279,
     "end_time": "2023-08-24T06:50:42.917463",
     "exception": false,
     "start_time": "2023-08-24T06:50:42.881184",
     "status": "completed"
    },
    "tags": []
   },
   "outputs": [
    {
     "data": {
      "text/plain": [
       "Genre\n",
       "Drama                   844\n",
       "Drama, Romance          332\n",
       "Action, Crime, Drama    329\n",
       "Action, Drama           206\n",
       "Comedy, Drama           205\n",
       "Name: count, dtype: int64"
      ]
     },
     "execution_count": 16,
     "metadata": {},
     "output_type": "execute_result"
    }
   ],
   "source": [
    "genresPie = movie_data['Genre'].value_counts()\n",
    "genresPie.head(5)"
   ]
  },
  {
   "cell_type": "code",
   "execution_count": 17,
   "id": "de04a048",
   "metadata": {
    "execution": {
     "iopub.execute_input": "2023-08-24T06:50:42.962476Z",
     "iopub.status.busy": "2023-08-24T06:50:42.962034Z",
     "iopub.status.idle": "2023-08-24T06:50:42.975948Z",
     "shell.execute_reply": "2023-08-24T06:50:42.975110Z"
    },
    "papermill": {
     "duration": 0.038046,
     "end_time": "2023-08-24T06:50:42.978267",
     "exception": false,
     "start_time": "2023-08-24T06:50:42.940221",
     "status": "completed"
    },
    "tags": []
   },
   "outputs": [
    {
     "data": {
      "text/html": [
       "<div>\n",
       "<style scoped>\n",
       "    .dataframe tbody tr th:only-of-type {\n",
       "        vertical-align: middle;\n",
       "    }\n",
       "\n",
       "    .dataframe tbody tr th {\n",
       "        vertical-align: top;\n",
       "    }\n",
       "\n",
       "    .dataframe thead th {\n",
       "        text-align: right;\n",
       "    }\n",
       "</style>\n",
       "<table border=\"1\" class=\"dataframe\">\n",
       "  <thead>\n",
       "    <tr style=\"text-align: right;\">\n",
       "      <th></th>\n",
       "      <th>Genre</th>\n",
       "      <th>Count</th>\n",
       "    </tr>\n",
       "  </thead>\n",
       "  <tbody>\n",
       "    <tr>\n",
       "      <th>0</th>\n",
       "      <td>Drama</td>\n",
       "      <td>844</td>\n",
       "    </tr>\n",
       "    <tr>\n",
       "      <th>1</th>\n",
       "      <td>Drama, Romance</td>\n",
       "      <td>332</td>\n",
       "    </tr>\n",
       "    <tr>\n",
       "      <th>2</th>\n",
       "      <td>Action, Crime, Drama</td>\n",
       "      <td>329</td>\n",
       "    </tr>\n",
       "    <tr>\n",
       "      <th>3</th>\n",
       "      <td>Action, Drama</td>\n",
       "      <td>206</td>\n",
       "    </tr>\n",
       "    <tr>\n",
       "      <th>4</th>\n",
       "      <td>Comedy, Drama</td>\n",
       "      <td>205</td>\n",
       "    </tr>\n",
       "  </tbody>\n",
       "</table>\n",
       "</div>"
      ],
      "text/plain": [
       "                  Genre  Count\n",
       "0                 Drama    844\n",
       "1        Drama, Romance    332\n",
       "2  Action, Crime, Drama    329\n",
       "3         Action, Drama    206\n",
       "4         Comedy, Drama    205"
      ]
     },
     "execution_count": 17,
     "metadata": {},
     "output_type": "execute_result"
    }
   ],
   "source": [
    "genrePie = pd.DataFrame(list(genresPie.items()))\n",
    "genrePie = genrePie.rename(columns={0: 'Genre', 1: 'Count'})\n",
    "genrePie.head(5)"
   ]
  },
  {
   "cell_type": "code",
   "execution_count": 18,
   "id": "0f2a569b",
   "metadata": {
    "execution": {
     "iopub.execute_input": "2023-08-24T06:50:43.021596Z",
     "iopub.status.busy": "2023-08-24T06:50:43.021157Z",
     "iopub.status.idle": "2023-08-24T06:50:43.036501Z",
     "shell.execute_reply": "2023-08-24T06:50:43.035399Z"
    },
    "papermill": {
     "duration": 0.040113,
     "end_time": "2023-08-24T06:50:43.038891",
     "exception": false,
     "start_time": "2023-08-24T06:50:42.998778",
     "status": "completed"
    },
    "tags": []
   },
   "outputs": [
    {
     "data": {
      "text/plain": [
       "1       8\n",
       "3      35\n",
       "5     827\n",
       "6    1086\n",
       "8     326\n",
       "Name: Votes, dtype: int32"
      ]
     },
     "execution_count": 18,
     "metadata": {},
     "output_type": "execute_result"
    }
   ],
   "source": [
    "movie_data['Votes'] = movie_data['Votes'].str.replace(',', '').astype(int)\n",
    "movie_data['Votes'].head(5)"
   ]
  },
  {
   "cell_type": "code",
   "execution_count": 19,
   "id": "1841f2b2",
   "metadata": {
    "execution": {
     "iopub.execute_input": "2023-08-24T06:50:43.083728Z",
     "iopub.status.busy": "2023-08-24T06:50:43.083332Z",
     "iopub.status.idle": "2023-08-24T06:50:43.093342Z",
     "shell.execute_reply": "2023-08-24T06:50:43.092332Z"
    },
    "papermill": {
     "duration": 0.035682,
     "end_time": "2023-08-24T06:50:43.095672",
     "exception": false,
     "start_time": "2023-08-24T06:50:43.059990",
     "status": "completed"
    },
    "tags": []
   },
   "outputs": [
    {
     "data": {
      "text/plain": [
       "2431"
      ]
     },
     "execution_count": 19,
     "metadata": {},
     "output_type": "execute_result"
    }
   ],
   "source": [
    "movie_data[\"Director\"].nunique()"
   ]
  },
  {
   "cell_type": "code",
   "execution_count": 20,
   "id": "ee3c3916",
   "metadata": {
    "execution": {
     "iopub.execute_input": "2023-08-24T06:50:43.140933Z",
     "iopub.status.busy": "2023-08-24T06:50:43.140292Z",
     "iopub.status.idle": "2023-08-24T06:50:43.151254Z",
     "shell.execute_reply": "2023-08-24T06:50:43.150092Z"
    },
    "papermill": {
     "duration": 0.036388,
     "end_time": "2023-08-24T06:50:43.153873",
     "exception": false,
     "start_time": "2023-08-24T06:50:43.117485",
     "status": "completed"
    },
    "tags": []
   },
   "outputs": [
    {
     "data": {
      "text/plain": [
       "Director\n",
       "David Dhawan            41\n",
       "Mahesh Bhatt            39\n",
       "Ram Gopal Varma         33\n",
       "Hrishikesh Mukherjee    33\n",
       "Shakti Samanta          33\n",
       "Name: count, dtype: int64"
      ]
     },
     "execution_count": 20,
     "metadata": {},
     "output_type": "execute_result"
    }
   ],
   "source": [
    "directors = movie_data[\"Director\"].value_counts()\n",
    "directors.head(5)"
   ]
  },
  {
   "cell_type": "code",
   "execution_count": 21,
   "id": "95089373",
   "metadata": {
    "execution": {
     "iopub.execute_input": "2023-08-24T06:50:43.199435Z",
     "iopub.status.busy": "2023-08-24T06:50:43.198369Z",
     "iopub.status.idle": "2023-08-24T06:50:43.217473Z",
     "shell.execute_reply": "2023-08-24T06:50:43.216295Z"
    },
    "papermill": {
     "duration": 0.044588,
     "end_time": "2023-08-24T06:50:43.220159",
     "exception": false,
     "start_time": "2023-08-24T06:50:43.175571",
     "status": "completed"
    },
    "tags": []
   },
   "outputs": [
    {
     "data": {
      "text/plain": [
       "Mithun Chakraborty    160\n",
       "Amitabh Bachchan      148\n",
       "Dharmendra            146\n",
       "Ashok Kumar           124\n",
       "Akshay Kumar          120\n",
       "Name: count, dtype: int64"
      ]
     },
     "execution_count": 21,
     "metadata": {},
     "output_type": "execute_result"
    }
   ],
   "source": [
    "actors = pd.concat([movie_data['Actor 1'], movie_data['Actor 2'], movie_data['Actor 3']]).dropna().value_counts()\n",
    "actors.head(5)"
   ]
  },
  {
   "cell_type": "markdown",
   "id": "9b2de2cc",
   "metadata": {
    "papermill": {
     "duration": 0.021157,
     "end_time": "2023-08-24T06:50:43.263682",
     "exception": false,
     "start_time": "2023-08-24T06:50:43.242525",
     "status": "completed"
    },
    "tags": []
   },
   "source": [
    "**DATA VISUALIZATION:-**"
   ]
  },
  {
   "cell_type": "code",
   "execution_count": 22,
   "id": "5a153ad1",
   "metadata": {
    "execution": {
     "iopub.execute_input": "2023-08-24T06:50:43.307719Z",
     "iopub.status.busy": "2023-08-24T06:50:43.307340Z",
     "iopub.status.idle": "2023-08-24T06:50:45.756431Z",
     "shell.execute_reply": "2023-08-24T06:50:45.755115Z"
    },
    "papermill": {
     "duration": 2.475197,
     "end_time": "2023-08-24T06:50:45.759943",
     "exception": false,
     "start_time": "2023-08-24T06:50:43.284746",
     "status": "completed"
    },
    "tags": []
   },
   "outputs": [],
   "source": [
    "import seaborn as sb\n",
    "import plotly.express as px\n",
    "import matplotlib.pyplot as mpl\n",
    "from wordcloud import WordCloud"
   ]
  },
  {
   "cell_type": "code",
   "execution_count": 23,
   "id": "aca494b9",
   "metadata": {
    "execution": {
     "iopub.execute_input": "2023-08-24T06:50:45.805257Z",
     "iopub.status.busy": "2023-08-24T06:50:45.804385Z",
     "iopub.status.idle": "2023-08-24T06:50:45.811164Z",
     "shell.execute_reply": "2023-08-24T06:50:45.809908Z"
    },
    "papermill": {
     "duration": 0.031882,
     "end_time": "2023-08-24T06:50:45.813580",
     "exception": false,
     "start_time": "2023-08-24T06:50:45.781698",
     "status": "completed"
    },
    "tags": []
   },
   "outputs": [],
   "source": [
    "sb.set(style = \"ticks\", font = \"Times New Roman\")"
   ]
  },
  {
   "cell_type": "code",
   "execution_count": 24,
   "id": "bb00e2eb",
   "metadata": {
    "execution": {
     "iopub.execute_input": "2023-08-24T06:50:45.858292Z",
     "iopub.status.busy": "2023-08-24T06:50:45.857839Z",
     "iopub.status.idle": "2023-08-24T06:50:46.279101Z",
     "shell.execute_reply": "2023-08-24T06:50:46.277920Z"
    },
    "papermill": {
     "duration": 0.446562,
     "end_time": "2023-08-24T06:50:46.281444",
     "exception": false,
     "start_time": "2023-08-24T06:50:45.834882",
     "status": "completed"
    },
    "tags": []
   },
   "outputs": [
    {
     "data": {
      "image/png": "[encoded data removed]",
      "text/plain": [
       "<Figure size 640x480 with 1 Axes>"
      ]
     },
     "metadata": {},
     "output_type": "display_data"
    }
   ],
   "source": [
    "ax = sb.lineplot(data=movie_data['Year'].value_counts().sort_index())\n",
    "tick_positions = range(min(movie_data['Year']), max(movie_data['Year']) + 1, 5)\n",
    "ax.set_title(\"Annual Movie Release Counts Over Time\")\n",
    "ax.set_xticks(tick_positions)\n",
    "ax.set_xticklabels(tick_positions, rotation = 90)\n",
    "ax.set_xlabel(\"Years\")\n",
    "ax.set_ylabel(\"Count\")\n",
    "mpl.show()"
   ]
  },
  {
   "cell_type": "code",
   "execution_count": 25,
   "id": "14782c1e",
   "metadata": {
    "execution": {
     "iopub.execute_input": "2023-08-24T06:50:46.327905Z",
     "iopub.status.busy": "2023-08-24T06:50:46.327499Z",
     "iopub.status.idle": "2023-08-24T06:50:46.567197Z",
     "shell.execute_reply": "2023-08-24T06:50:46.566154Z"
    },
    "papermill": {
     "duration": 0.265899,
     "end_time": "2023-08-24T06:50:46.569752",
     "exception": false,
     "start_time": "2023-08-24T06:50:46.303853",
     "status": "completed"
    },
    "tags": []
   },
   "outputs": [
    {
     "data": {
      "image/png": "[encoded data removed]",
      "text/plain": [
       "<Figure size 640x480 with 1 Axes>"
      ]
     },
     "metadata": {},
     "output_type": "display_data"
    }
   ],
   "source": [
    "ax = sb.boxplot(data=movie_data, y='Year')\n",
    "ax.set_ylabel('Year')\n",
    "ax.set_title('Box Plot of Year')\n",
    "mpl.show()"
   ]
  },
  {
   "cell_type": "code",
   "execution_count": 26,
   "id": "67703682",
   "metadata": {
    "execution": {
     "iopub.execute_input": "2023-08-24T06:50:46.618775Z",
     "iopub.status.busy": "2023-08-24T06:50:46.617610Z",
     "iopub.status.idle": "2023-08-24T06:50:47.022011Z",
     "shell.execute_reply": "2023-08-24T06:50:47.020692Z"
    },
    "papermill": {
     "duration": 0.431865,
     "end_time": "2023-08-24T06:50:47.024707",
     "exception": false,
     "start_time": "2023-08-24T06:50:46.592842",
     "status": "completed"
    },
    "tags": []
   },
   "outputs": [
    {
     "data": {
      "image/png": "[encoded data removed]",
      "text/plain": [
       "<Figure size 640x480 with 1 Axes>"
      ]
     },
     "metadata": {},
     "output_type": "display_data"
    }
   ],
   "source": [
    "ax = sb.lineplot(data=movie_data.groupby('Year')['Duration'].mean().reset_index(), x='Year', y='Duration')\n",
    "tick_positions = range(min(movie_data['Year']), max(movie_data['Year']) + 1, 5)\n",
    "ax.set_title(\"Average Movie Duration Trends Over the Years\")\n",
    "ax.set_xticks(tick_positions)\n",
    "ax.set_xticklabels(tick_positions, rotation = 90)\n",
    "ax.set_xlabel(\"Years\")\n",
    "ax.set_ylabel('Average Duration(in minutes)')\n",
    "mpl.show()"
   ]
  },
  {
   "cell_type": "code",
   "execution_count": 27,
   "id": "9751cc6c",
   "metadata": {
    "execution": {
     "iopub.execute_input": "2023-08-24T06:50:47.076819Z",
     "iopub.status.busy": "2023-08-24T06:50:47.076030Z",
     "iopub.status.idle": "2023-08-24T06:50:47.331167Z",
     "shell.execute_reply": "2023-08-24T06:50:47.329910Z"
    },
    "papermill": {
     "duration": 0.285073,
     "end_time": "2023-08-24T06:50:47.333725",
     "exception": false,
     "start_time": "2023-08-24T06:50:47.048652",
     "status": "completed"
    },
    "tags": []
   },
   "outputs": [
    {
     "data": {
      "image/png": "[encoded data removed]",
      "text/plain": [
       "<Figure size 640x480 with 1 Axes>"
      ]
     },
     "metadata": {},
     "output_type": "display_data"
    }
   ],
   "source": [
    "ax = sb.boxplot(data=movie_data, y='Duration')\n",
    "ax.set_title(\"Box Plot of Average Movie Durations\")\n",
    "ax.set_ylabel('Average Duration(in minutes)')\n",
    "mpl.show()"
   ]
  },
  {
   "cell_type": "code",
   "execution_count": 28,
   "id": "94014a79",
   "metadata": {
    "execution": {
     "iopub.execute_input": "2023-08-24T06:50:47.384798Z",
     "iopub.status.busy": "2023-08-24T06:50:47.384361Z",
     "iopub.status.idle": "2023-08-24T06:50:47.409081Z",
     "shell.execute_reply": "2023-08-24T06:50:47.407590Z"
    },
    "papermill": {
     "duration": 0.052672,
     "end_time": "2023-08-24T06:50:47.411578",
     "exception": false,
     "start_time": "2023-08-24T06:50:47.358906",
     "status": "completed"
    },
    "tags": []
   },
   "outputs": [
    {
     "data": {
      "text/html": [
       "<div>\n",
       "<style scoped>\n",
       "    .dataframe tbody tr th:only-of-type {\n",
       "        vertical-align: middle;\n",
       "    }\n",
       "\n",
       "    .dataframe tbody tr th {\n",
       "        vertical-align: top;\n",
       "    }\n",
       "\n",
       "    .dataframe thead th {\n",
       "        text-align: right;\n",
       "    }\n",
       "</style>\n",
       "<table border=\"1\" class=\"dataframe\">\n",
       "  <thead>\n",
       "    <tr style=\"text-align: right;\">\n",
       "      <th></th>\n",
       "      <th>Name</th>\n",
       "      <th>Year</th>\n",
       "      <th>Duration</th>\n",
       "      <th>Genre</th>\n",
       "      <th>Rating</th>\n",
       "      <th>Votes</th>\n",
       "      <th>Director</th>\n",
       "      <th>Actor 1</th>\n",
       "      <th>Actor 2</th>\n",
       "      <th>Actor 3</th>\n",
       "    </tr>\n",
       "  </thead>\n",
       "  <tbody>\n",
       "    <tr>\n",
       "      <th>1</th>\n",
       "      <td>#Gadhvi (He thought he was Gandhi)</td>\n",
       "      <td>2019</td>\n",
       "      <td>109</td>\n",
       "      <td>Drama</td>\n",
       "      <td>7.0</td>\n",
       "      <td>8</td>\n",
       "      <td>Gaurav Bakshi</td>\n",
       "      <td>Rasika Dugal</td>\n",
       "      <td>Vivek Ghamande</td>\n",
       "      <td>Arvind Jangid</td>\n",
       "    </tr>\n",
       "    <tr>\n",
       "      <th>3</th>\n",
       "      <td>#Yaaram</td>\n",
       "      <td>2019</td>\n",
       "      <td>110</td>\n",
       "      <td>Comedy, Romance</td>\n",
       "      <td>4.4</td>\n",
       "      <td>35</td>\n",
       "      <td>Ovais Khan</td>\n",
       "      <td>Prateik</td>\n",
       "      <td>Ishita Raj</td>\n",
       "      <td>Siddhant Kapoor</td>\n",
       "    </tr>\n",
       "    <tr>\n",
       "      <th>5</th>\n",
       "      <td>...Aur Pyaar Ho Gaya</td>\n",
       "      <td>1997</td>\n",
       "      <td>147</td>\n",
       "      <td>Comedy, Drama, Musical</td>\n",
       "      <td>4.7</td>\n",
       "      <td>827</td>\n",
       "      <td>Rahul Rawail</td>\n",
       "      <td>Bobby Deol</td>\n",
       "      <td>Aishwarya Rai Bachchan</td>\n",
       "      <td>Shammi Kapoor</td>\n",
       "    </tr>\n",
       "    <tr>\n",
       "      <th>6</th>\n",
       "      <td>...Yahaan</td>\n",
       "      <td>2005</td>\n",
       "      <td>142</td>\n",
       "      <td>Drama, Romance, War</td>\n",
       "      <td>7.4</td>\n",
       "      <td>1086</td>\n",
       "      <td>Shoojit Sircar</td>\n",
       "      <td>Jimmy Sheirgill</td>\n",
       "      <td>Minissha Lamba</td>\n",
       "      <td>Yashpal Sharma</td>\n",
       "    </tr>\n",
       "    <tr>\n",
       "      <th>8</th>\n",
       "      <td>?: A Question Mark</td>\n",
       "      <td>2012</td>\n",
       "      <td>82</td>\n",
       "      <td>Horror, Mystery, Thriller</td>\n",
       "      <td>5.6</td>\n",
       "      <td>326</td>\n",
       "      <td>Allyson Patel</td>\n",
       "      <td>Yash Dave</td>\n",
       "      <td>Muntazir Ahmad</td>\n",
       "      <td>Kiran Bhatia</td>\n",
       "    </tr>\n",
       "  </tbody>\n",
       "</table>\n",
       "</div>"
      ],
      "text/plain": [
       "                                 Name  Year  Duration  \\\n",
       "1  #Gadhvi (He thought he was Gandhi)  2019       109   \n",
       "3                             #Yaaram  2019       110   \n",
       "5                ...Aur Pyaar Ho Gaya  1997       147   \n",
       "6                           ...Yahaan  2005       142   \n",
       "8                  ?: A Question Mark  2012        82   \n",
       "\n",
       "                       Genre  Rating  Votes        Director          Actor 1  \\\n",
       "1                      Drama     7.0      8   Gaurav Bakshi     Rasika Dugal   \n",
       "3            Comedy, Romance     4.4     35      Ovais Khan          Prateik   \n",
       "5     Comedy, Drama, Musical     4.7    827    Rahul Rawail       Bobby Deol   \n",
       "6        Drama, Romance, War     7.4   1086  Shoojit Sircar  Jimmy Sheirgill   \n",
       "8  Horror, Mystery, Thriller     5.6    326   Allyson Patel        Yash Dave   \n",
       "\n",
       "                  Actor 2          Actor 3  \n",
       "1          Vivek Ghamande    Arvind Jangid  \n",
       "3              Ishita Raj  Siddhant Kapoor  \n",
       "5  Aishwarya Rai Bachchan    Shammi Kapoor  \n",
       "6          Minissha Lamba   Yashpal Sharma  \n",
       "8          Muntazir Ahmad     Kiran Bhatia  "
      ]
     },
     "execution_count": 28,
     "metadata": {},
     "output_type": "execute_result"
    }
   ],
   "source": [
    "Q1 = movie_data['Duration'].quantile(0.25)\n",
    "Q3 = movie_data['Duration'].quantile(0.75)\n",
    "IQR = Q3 - Q1\n",
    "lower_bound = Q1 - 1.5 * IQR\n",
    "upper_bound = Q3 + 1.5 * IQR\n",
    "df = movie_data[(movie_data['Duration'] >= lower_bound) & (movie_data['Duration'] <= upper_bound)]\n",
    "df.head(5)"
   ]
  },
  {
   "cell_type": "code",
   "execution_count": 29,
   "id": "2607b0c3",
   "metadata": {
    "execution": {
     "iopub.execute_input": "2023-08-24T06:50:47.462930Z",
     "iopub.status.busy": "2023-08-24T06:50:47.462468Z",
     "iopub.status.idle": "2023-08-24T06:50:48.025979Z",
     "shell.execute_reply": "2023-08-24T06:50:48.025057Z"
    },
    "papermill": {
     "duration": 0.591948,
     "end_time": "2023-08-24T06:50:48.028265",
     "exception": false,
     "start_time": "2023-08-24T06:50:47.436317",
     "status": "completed"
    },
    "tags": []
   },
   "outputs": [
    {
     "data": {
      "image/png": "[encoded data removed]",
      "text/plain": [
       "<Figure size 1000x600 with 1 Axes>"
      ]
     },
     "metadata": {},
     "output_type": "display_data"
    }
   ],
   "source": [
    "genre_counts = movie_data['Genre'].str.split(', ', expand=True).stack().value_counts()\n",
    "\n",
    "wordcloud = WordCloud(width=800, height=400, background_color='white').generate_from_frequencies(genre_counts)\n",
    "\n",
    "mpl.figure(figsize=(10, 6))\n",
    "mpl.imshow(wordcloud, interpolation='bilinear')\n",
    "mpl.axis('off')\n",
    "mpl.title('Genre Word Cloud')\n",
    "mpl.show()\n"
   ]
  },
  {
   "cell_type": "code",
   "execution_count": 30,
   "id": "12ddc58f",
   "metadata": {
    "execution": {
     "iopub.execute_input": "2023-08-24T06:50:48.082275Z",
     "iopub.status.busy": "2023-08-24T06:50:48.081184Z",
     "iopub.status.idle": "2023-08-24T06:50:48.666356Z",
     "shell.execute_reply": "2023-08-24T06:50:48.665087Z"
    },
    "papermill": {
     "duration": 0.614869,
     "end_time": "2023-08-24T06:50:48.668960",
     "exception": false,
     "start_time": "2023-08-24T06:50:48.054091",
     "status": "completed"
    },
    "tags": []
   },
   "outputs": [
    {
     "data": {
      "image/png": "[encoded data removed]",
      "text/plain": [
       "<Figure size 640x480 with 1 Axes>"
      ]
     },
     "metadata": {},
     "output_type": "display_data"
    }
   ],
   "source": [
    "genreLabels = sorted(genereCounts.keys())\n",
    "genreCounts = sorted(genereCounts.values())\n",
    "ax = sb.barplot(x = genreLabels, y = genreCounts)\n",
    "ax.set_xticklabels(labels=genreLabels, rotation = 90)\n",
    "mpl.show()"
   ]
  },
  {
   "cell_type": "code",
   "execution_count": 31,
   "id": "99f7999f",
   "metadata": {
    "execution": {
     "iopub.execute_input": "2023-08-24T06:50:48.724114Z",
     "iopub.status.busy": "2023-08-24T06:50:48.723660Z",
     "iopub.status.idle": "2023-08-24T06:50:50.568511Z",
     "shell.execute_reply": "2023-08-24T06:50:50.567042Z"
    },
    "papermill": {
     "duration": 1.875666,
     "end_time": "2023-08-24T06:50:50.571248",
     "exception": false,
     "start_time": "2023-08-24T06:50:48.695582",
     "status": "completed"
    },
    "tags": []
   },
   "outputs": [
    {
     "data": {
      "application/vnd.plotly.v1+json": {
       "config": {
        "plotlyServerURL": "https://plot.ly"
       },
       "data": [
        {
         "domain": {
          "x": [
           0,
           1
          ],
          "y": [
           0,
           1
          ]
         },
         "hovertemplate": "Genre=%{label}<br>Count=%{value}<extra></extra>",
         "labels": [
          "Drama",
          "Drama, Romance",
          "Action, Crime, Drama",
          "Action, Drama",
          "Comedy, Drama",
          "Comedy, Drama, Romance",
          "Comedy",
          "Action",
          "Drama, Family",
          "Romance",
          "Action, Comedy, Drama",
          "Comedy, Romance",
          "Action, Drama, Romance",
          "Drama, Musical, Romance",
          "Thriller",
          "Action, Comedy, Crime",
          "Horror",
          "Action, Thriller",
          "Comedy, Crime, Drama",
          "Crime, Drama, Thriller",
          "Drama, Thriller",
          "Comedy, Drama, Family",
          "Other",
          "Other",
          "Other",
          "Other",
          "Other",
          "Other",
          "Other",
          "Other",
          "Other",
          "Other",
          "Other",
          "Other",
          "Other",
          "Other",
          "Other",
          "Other",
          "Other",
          "Other",
          "Other",
          "Other",
          "Other",
          "Other",
          "Other",
          "Other",
          "Other",
          "Other",
          "Other",
          "Other",
          "Other",
          "Other",
          "Other",
          "Other",
          "Other",
          "Other",
          "Other",
          "Other",
          "Other",
          "Other",
          "Other",
          "Other",
          "Other",
          "Other",
          "Other",
          "Other",
          "Other",
          "Other",
          "Other",
          "Other",
          "Other",
          "Other",
          "Other",
          "Other",
          "Other",
          "Other",
          "Other",
          "Other",
          "Other",
          "Other",
          "Other",
          "Other",
          "Other",
          "Other",
          "Other",
          "Other",
          "Other",
          "Other",
          "Other",
          "Other",
          "Other",
          "Other",
          "Other",
          "Other",
          "Other",
          "Other",
          "Other",
          "Other",
          "Other",
          "Other",
          "Other",
          "Other",
          "Other",
          "Other",
          "Other",
          "Other",
          "Other",
          "Other",
          "Other",
          "Other",
          "Other",
          "Other",
          "Other",
          "Other",
          "Other",
          "Other",
          "Other",
          "Other",
          "Other",
          "Other",
          "Other",
          "Other",
          "Other",
          "Other",
          "Other",
          "Other",
          "Other",
          "Other",
          "Other",
          "Other",
          "Other",
          "Other",
          "Other",
          "Other",
          "Other",
          "Other",
          "Other",
          "Other",
          "Other",
          "Other",
          "Other",
          "Other",
          "Other",
          "Other",
          "Other",
          "Other",
          "Other",
          "Other",
          "Other",
          "Other",
          "Other",
          "Other",
          "Other",
          "Other",
          "Other",
          "Other",
          "Other",
          "Other",
          "Other",
          "Other",
          "Other",
          "Other",
          "Other",
          "Other",
          "Other",
          "Other",
          "Other",
          "Other",
          "Other",
          "Other",
          "Other",
          "Other",
          "Other",
          "Other",
          "Other",
          "Other",
          "Other",
          "Other",
          "Other",
          "Other",
          "Other",
          "Other",
          "Other",
          "Other",
          "Other",
          "Other",
          "Other",
          "Other",
          "Other",
          "Other",
          "Other",
          "Other",
          "Other",
          "Other",
          "Other",
          "Other",
          "Other",
          "Other",
          "Other",
          "Other",
          "Other",
          "Other",
          "Other",
          "Other",
          "Other",
          "Other",
          "Other",
          "Other",
          "Other",
          "Other",
          "Other",
          "Other",
          "Other",
          "Other",
          "Other",
          "Other",
          "Other",
          "Other",
          "Other",
          "Other",
          "Other",
          "Other",
          "Other",
          "Other",
          "Other",
          "Other",
          "Other",
          "Other",
          "Other",
          "Other",
          "Other",
          "Other",
          "Other",
          "Other",
          "Other",
          "Other",
          "Other",
          "Other",
          "Other",
          "Other",
          "Other",
          "Other",
          "Other",
          "Other",
          "Other",
          "Other",
          "Other",
          "Other",
          "Other",
          "Other",
          "Other",
          "Other",
          "Other",
          "Other",
          "Other",
          "Other",
          "Other",
          "Other",
          "Other",
          "Other",
          "Other",
          "Other",
          "Other",
          "Other",
          "Other",
          "Other",
          "Other",
          "Other",
          "Other",
          "Other",
          "Other",
          "Other",
          "Other",
          "Other",
          "Other",
          "Other",
          "Other",
          "Other",
          "Other",
          "Other",
          "Other",
          "Other",
          "Other",
          "Other",
          "Other",
          "Other",
          "Other",
          "Other",
          "Other",
          "Other",
          "Other",
          "Other",
          "Other",
          "Other",
          "Other",
          "Other",
          "Other",
          "Other",
          "Other",
          "Other",
          "Other",
          "Other",
          "Other",
          "Other",
          "Other",
          "Other",
          "Other",
          "Other",
          "Other",
          "Other",
          "Other",
          "Other",
          "Other",
          "Other",
          "Other",
          "Other",
          "Other",
          "Other",
          "Other",
          "Other",
          "Other",
          "Other",
          "Other",
          "Other",
          "Other",
          "Other",
          "Other",
          "Other",
          "Other",
          "Other",
          "Other",
          "Other",
          "Other",
          "Other",
          "Other",
          "Other",
          "Other",
          "Other",
          "Other",
          "Other",
          "Other",
          "Other",
          "Other",
          "Other",
          "Other",
          "Other",
          "Other",
          "Other",
          "Other",
          "Other",
          "Other",
          "Other",
          "Other",
          "Other",
          "Other",
          "Other",
          "Other",
          "Other",
          "Other",
          "Other",
          "Other",
          "Other",
          "Other",
          "Other",
          "Other",
          "Other",
          "Other",
          "Other",
          "Other",
          "Other",
          "Other",
          "Other",
          "Other",
          "Other",
          "Other",
          "Other"
         ],
         "legendgroup": "",
         "name": "",
         "showlegend": true,
         "type": "pie",
         "values": [
          844,
          332,
          329,
          206,
          205,
          188,
          187,
          170,
          160,
          126,
          118,
          107,
          107,
          93,
          84,
          74,
          74,
          70,
          53,
          53,
          52,
          50,
          49,
          49,
          46,
          45,
          45,
          43,
          40,
          40,
          37,
          32,
          31,
          30,
          30,
          29,
          28,
          27,
          26,
          25,
          25,
          25,
          24,
          24,
          21,
          21,
          19,
          19,
          18,
          18,
          18,
          18,
          18,
          17,
          17,
          17,
          16,
          15,
          14,
          14,
          13,
          13,
          13,
          13,
          12,
          12,
          12,
          12,
          11,
          11,
          11,
          11,
          10,
          10,
          10,
          10,
          10,
          10,
          10,
          10,
          9,
          9,
          9,
          9,
          8,
          8,
          8,
          8,
          8,
          8,
          7,
          7,
          7,
          7,
          7,
          7,
          7,
          6,
          6,
          6,
          6,
          6,
          6,
          6,
          6,
          6,
          6,
          6,
          6,
          6,
          5,
          5,
          5,
          5,
          5,
          5,
          5,
          5,
          5,
          5,
          5,
          5,
          5,
          5,
          5,
          5,
          4,
          4,
          4,
          4,
          4,
          4,
          4,
          4,
          4,
          4,
          4,
          4,
          4,
          4,
          4,
          4,
          4,
          4,
          4,
          4,
          3,
          3,
          3,
          3,
          3,
          3,
          3,
          3,
          3,
          3,
          3,
          3,
          3,
          3,
          3,
          3,
          3,
          3,
          3,
          3,
          3,
          3,
          3,
          3,
          3,
          3,
          3,
          3,
          3,
          3,
          3,
          3,
          3,
          3,
          2,
          2,
          2,
          2,
          2,
          2,
          2,
          2,
          2,
          2,
          2,
          2,
          2,
          2,
          2,
          2,
          2,
          2,
          2,
          2,
          2,
          2,
          2,
          2,
          2,
          2,
          2,
          2,
          2,
          2,
          2,
          2,
          2,
          2,
          2,
          2,
          2,
          2,
          2,
          2,
          2,
          2,
          2,
          2,
          2,
          2,
          2,
          2,
          2,
          2,
          2,
          2,
          2,
          2,
          1,
          1,
          1,
          1,
          1,
          1,
          1,
          1,
          1,
          1,
          1,
          1,
          1,
          1,
          1,
          1,
          1,
          1,
          1,
          1,
          1,
          1,
          1,
          1,
          1,
          1,
          1,
          1,
          1,
          1,
          1,
          1,
          1,
          1,
          1,
          1,
          1,
          1,
          1,
          1,
          1,
          1,
          1,
          1,
          1,
          1,
          1,
          1,
          1,
          1,
          1,
          1,
          1,
          1,
          1,
          1,
          1,
          1,
          1,
          1,
          1,
          1,
          1,
          1,
          1,
          1,
          1,
          1,
          1,
          1,
          1,
          1,
          1,
          1,
          1,
          1,
          1,
          1,
          1,
          1,
          1,
          1,
          1,
          1,
          1,
          1,
          1,
          1,
          1,
          1,
          1,
          1,
          1,
          1,
          1,
          1,
          1,
          1,
          1,
          1,
          1,
          1,
          1,
          1,
          1,
          1,
          1,
          1,
          1,
          1,
          1,
          1,
          1,
          1,
          1,
          1,
          1,
          1,
          1,
          1,
          1,
          1,
          1,
          1,
          1,
          1,
          1,
          1,
          1,
          1,
          1,
          1,
          1,
          1,
          1,
          1,
          1,
          1,
          1,
          1,
          1,
          1
         ]
        }
       ],
       "layout": {
        "legend": {
         "tracegroupgap": 0
        },
        "template": {
         "data": {
          "bar": [
           {
            "error_x": {
             "color": "#2a3f5f"
            },
            "error_y": {
             "color": "#2a3f5f"
            },
            "marker": {
             "line": {
              "color": "#E5ECF6",
              "width": 0.5
             },
             "pattern": {
              "fillmode": "overlay",
              "size": 10,
              "solidity": 0.2
             }
            },
            "type": "bar"
           }
          ],
          "barpolar": [
           {
            "marker": {
             "line": {
              "color": "#E5ECF6",
              "width": 0.5
             },
             "pattern": {
              "fillmode": "overlay",
              "size": 10,
              "solidity": 0.2
             }
            },
            "type": "barpolar"
           }
          ],
          "carpet": [
           {
            "aaxis": {
             "endlinecolor": "#2a3f5f",
             "gridcolor": "white",
             "linecolor": "white",
             "minorgridcolor": "white",
             "startlinecolor": "#2a3f5f"
            },
            "baxis": {
             "endlinecolor": "#2a3f5f",
             "gridcolor": "white",
             "linecolor": "white",
             "minorgridcolor": "white",
             "startlinecolor": "#2a3f5f"
            },
            "type": "carpet"
           }
          ],
          "choropleth": [
           {
            "colorbar": {
             "outlinewidth": 0,
             "ticks": ""
            },
            "type": "choropleth"
           }
          ],
          "contour": [
           {
            "colorbar": {
             "outlinewidth": 0,
             "ticks": ""
            },
            "colorscale": [
             [
              0,
              "#0d0887"
             ],
             [
              0.1111111111111111,
              "#46039f"
             ],
             [
              0.2222222222222222,
              "#7201a8"
             ],
             [
              0.3333333333333333,
              "#9c179e"
             ],
             [
              0.4444444444444444,
              "#bd3786"
             ],
             [
              0.5555555555555556,
              "#d8576b"
             ],
             [
              0.6666666666666666,
              "#ed7953"
             ],
             [
              0.7777777777777778,
              "#fb9f3a"
             ],
             [
              0.8888888888888888,
              "#fdca26"
             ],
             [
              1,
              "#f0f921"
             ]
            ],
            "type": "contour"
           }
          ],
          "contourcarpet": [
           {
            "colorbar": {
             "outlinewidth": 0,
             "ticks": ""
            },
            "type": "contourcarpet"
           }
          ],
          "heatmap": [
           {
            "colorbar": {
             "outlinewidth": 0,
             "ticks": ""
            },
            "colorscale": [
             [
              0,
              "#0d0887"
             ],
             [
              0.1111111111111111,
              "#46039f"
             ],
             [
              0.2222222222222222,
              "#7201a8"
             ],
             [
              0.3333333333333333,
              "#9c179e"
             ],
             [
              0.4444444444444444,
              "#bd3786"
             ],
             [
              0.5555555555555556,
              "#d8576b"
             ],
             [
              0.6666666666666666,
              "#ed7953"
             ],
             [
              0.7777777777777778,
              "#fb9f3a"
             ],
             [
              0.8888888888888888,
              "#fdca26"
             ],
             [
              1,
              "#f0f921"
             ]
            ],
            "type": "heatmap"
           }
          ],
          "heatmapgl": [
           {
            "colorbar": {
             "outlinewidth": 0,
             "ticks": ""
            },
            "colorscale": [
             [
              0,
              "#0d0887"
             ],
             [
              0.1111111111111111,
              "#46039f"
             ],
             [
              0.2222222222222222,
              "#7201a8"
             ],
             [
              0.3333333333333333,
              "#9c179e"
             ],
             [
              0.4444444444444444,
              "#bd3786"
             ],
             [
              0.5555555555555556,
              "#d8576b"
             ],
             [
              0.6666666666666666,
              "#ed7953"
             ],
             [
              0.7777777777777778,
              "#fb9f3a"
             ],
             [
              0.8888888888888888,
              "#fdca26"
             ],
             [
              1,
              "#f0f921"
             ]
            ],
            "type": "heatmapgl"
           }
          ],
          "histogram": [
           {
            "marker": {
             "pattern": {
              "fillmode": "overlay",
              "size": 10,
              "solidity": 0.2
             }
            },
            "type": "histogram"
           }
          ],
          "histogram2d": [
           {
            "colorbar": {
             "outlinewidth": 0,
             "ticks": ""
            },
            "colorscale": [
             [
              0,
              "#0d0887"
             ],
             [
              0.1111111111111111,
              "#46039f"
             ],
             [
              0.2222222222222222,
              "#7201a8"
             ],
             [
              0.3333333333333333,
              "#9c179e"
             ],
             [
              0.4444444444444444,
              "#bd3786"
             ],
             [
              0.5555555555555556,
              "#d8576b"
             ],
             [
              0.6666666666666666,
              "#ed7953"
             ],
             [
              0.7777777777777778,
              "#fb9f3a"
             ],
             [
              0.8888888888888888,
              "#fdca26"
             ],
             [
              1,
              "#f0f921"
             ]
            ],
            "type": "histogram2d"
           }
          ],
          "histogram2dcontour": [
           {
            "colorbar": {
             "outlinewidth": 0,
             "ticks": ""
            },
            "colorscale": [
             [
              0,
              "#0d0887"
             ],
             [
              0.1111111111111111,
              "#46039f"
             ],
             [
              0.2222222222222222,
              "#7201a8"
             ],
             [
              0.3333333333333333,
              "#9c179e"
             ],
             [
              0.4444444444444444,
              "#bd3786"
             ],
             [
              0.5555555555555556,
              "#d8576b"
             ],
             [
              0.6666666666666666,
              "#ed7953"
             ],
             [
              0.7777777777777778,
              "#fb9f3a"
             ],
             [
              0.8888888888888888,
              "#fdca26"
             ],
             [
              1,
              "#f0f921"
             ]
            ],
            "type": "histogram2dcontour"
           }
          ],
          "mesh3d": [
           {
            "colorbar": {
             "outlinewidth": 0,
             "ticks": ""
            },
            "type": "mesh3d"
           }
          ],
          "parcoords": [
           {
            "line": {
             "colorbar": {
              "outlinewidth": 0,
              "ticks": ""
             }
            },
            "type": "parcoords"
           }
          ],
          "pie": [
           {
            "automargin": true,
            "type": "pie"
           }
          ],
          "scatter": [
           {
            "fillpattern": {
             "fillmode": "overlay",
             "size": 10,
             "solidity": 0.2
            },
            "type": "scatter"
           }
          ],
          "scatter3d": [
           {
            "line": {
             "colorbar": {
              "outlinewidth": 0,
              "ticks": ""
             }
            },
            "marker": {
             "colorbar": {
              "outlinewidth": 0,
              "ticks": ""
             }
            },
            "type": "scatter3d"
           }
          ],
          "scattercarpet": [
           {
            "marker": {
             "colorbar": {
              "outlinewidth": 0,
              "ticks": ""
             }
            },
            "type": "scattercarpet"
           }
          ],
          "scattergeo": [
           {
            "marker": {
             "colorbar": {
              "outlinewidth": 0,
              "ticks": ""
             }
            },
            "type": "scattergeo"
           }
          ],
          "scattergl": [
           {
            "marker": {
             "colorbar": {
              "outlinewidth": 0,
              "ticks": ""
             }
            },
            "type": "scattergl"
           }
          ],
          "scattermapbox": [
           {
            "marker": {
             "colorbar": {
              "outlinewidth": 0,
              "ticks": ""
             }
            },
            "type": "scattermapbox"
           }
          ],
          "scatterpolar": [
           {
            "marker": {
             "colorbar": {
              "outlinewidth": 0,
              "ticks": ""
             }
            },
            "type": "scatterpolar"
           }
          ],
          "scatterpolargl": [
           {
            "marker": {
             "colorbar": {
              "outlinewidth": 0,
              "ticks": ""
             }
            },
            "type": "scatterpolargl"
           }
          ],
          "scatterternary": [
           {
            "marker": {
             "colorbar": {
              "outlinewidth": 0,
              "ticks": ""
             }
            },
            "type": "scatterternary"
           }
          ],
          "surface": [
           {
            "colorbar": {
             "outlinewidth": 0,
             "ticks": ""
            },
            "colorscale": [
             [
              0,
              "#0d0887"
             ],
             [
              0.1111111111111111,
              "#46039f"
             ],
             [
              0.2222222222222222,
              "#7201a8"
             ],
             [
              0.3333333333333333,
              "#9c179e"
             ],
             [
              0.4444444444444444,
              "#bd3786"
             ],
             [
              0.5555555555555556,
              "#d8576b"
             ],
             [
              0.6666666666666666,
              "#ed7953"
             ],
             [
              0.7777777777777778,
              "#fb9f3a"
             ],
             [
              0.8888888888888888,
              "#fdca26"
             ],
             [
              1,
              "#f0f921"
             ]
            ],
            "type": "surface"
           }
          ],
          "table": [
           {
            "cells": {
             "fill": {
              "color": "#EBF0F8"
             },
             "line": {
              "color": "white"
             }
            },
            "header": {
             "fill": {
              "color": "#C8D4E3"
             },
             "line": {
              "color": "white"
             }
            },
            "type": "table"
           }
          ]
         },
         "layout": {
          "annotationdefaults": {
           "arrowcolor": "#2a3f5f",
           "arrowhead": 0,
           "arrowwidth": 1
          },
          "autotypenumbers": "strict",
          "coloraxis": {
           "colorbar": {
            "outlinewidth": 0,
            "ticks": ""
           }
          },
          "colorscale": {
           "diverging": [
            [
             0,
             "#8e0152"
            ],
            [
             0.1,
             "#c51b7d"
            ],
            [
             0.2,
             "#de77ae"
            ],
            [
             0.3,
             "#f1b6da"
            ],
            [
             0.4,
             "#fde0ef"
            ],
            [
             0.5,
             "#f7f7f7"
            ],
            [
             0.6,
             "#e6f5d0"
            ],
            [
             0.7,
             "#b8e186"
            ],
            [
             0.8,
             "#7fbc41"
            ],
            [
             0.9,
             "#4d9221"
            ],
            [
             1,
             "#276419"
            ]
           ],
           "sequential": [
            [
             0,
             "#0d0887"
            ],
            [
             0.1111111111111111,
             "#46039f"
            ],
            [
             0.2222222222222222,
             "#7201a8"
            ],
            [
             0.3333333333333333,
             "#9c179e"
            ],
            [
             0.4444444444444444,
             "#bd3786"
            ],
            [
             0.5555555555555556,
             "#d8576b"
            ],
            [
             0.6666666666666666,
             "#ed7953"
            ],
            [
             0.7777777777777778,
             "#fb9f3a"
            ],
            [
             0.8888888888888888,
             "#fdca26"
            ],
            [
             1,
             "#f0f921"
            ]
           ],
           "sequentialminus": [
            [
             0,
             "#0d0887"
            ],
            [
             0.1111111111111111,
             "#46039f"
            ],
            [
             0.2222222222222222,
             "#7201a8"
            ],
            [
             0.3333333333333333,
             "#9c179e"
            ],
            [
             0.4444444444444444,
             "#bd3786"
            ],
            [
             0.5555555555555556,
             "#d8576b"
            ],
            [
             0.6666666666666666,
             "#ed7953"
            ],
            [
             0.7777777777777778,
             "#fb9f3a"
            ],
            [
             0.8888888888888888,
             "#fdca26"
            ],
            [
             1,
             "#f0f921"
            ]
           ]
          },
          "colorway": [
           "#636efa",
           "#EF553B",
           "#00cc96",
           "#ab63fa",
           "#FFA15A",
           "#19d3f3",
           "#FF6692",
           "#B6E880",
           "#FF97FF",
           "#FECB52"
          ],
          "font": {
           "color": "#2a3f5f"
          },
          "geo": {
           "bgcolor": "white",
           "lakecolor": "white",
           "landcolor": "#E5ECF6",
           "showlakes": true,
           "showland": true,
           "subunitcolor": "white"
          },
          "hoverlabel": {
           "align": "left"
          },
          "hovermode": "closest",
          "mapbox": {
           "style": "light"
          },
          "paper_bgcolor": "white",
          "plot_bgcolor": "#E5ECF6",
          "polar": {
           "angularaxis": {
            "gridcolor": "white",
            "linecolor": "white",
            "ticks": ""
           },
           "bgcolor": "#E5ECF6",
           "radialaxis": {
            "gridcolor": "white",
            "linecolor": "white",
            "ticks": ""
           }
          },
          "scene": {
           "xaxis": {
            "backgroundcolor": "#E5ECF6",
            "gridcolor": "white",
            "gridwidth": 2,
            "linecolor": "white",
            "showbackground": true,
            "ticks": "",
            "zerolinecolor": "white"
           },
           "yaxis": {
            "backgroundcolor": "#E5ECF6",
            "gridcolor": "white",
            "gridwidth": 2,
            "linecolor": "white",
            "showbackground": true,
            "ticks": "",
            "zerolinecolor": "white"
           },
           "zaxis": {
            "backgroundcolor": "#E5ECF6",
            "gridcolor": "white",
            "gridwidth": 2,
            "linecolor": "white",
            "showbackground": true,
            "ticks": "",
            "zerolinecolor": "white"
           }
          },
          "shapedefaults": {
           "line": {
            "color": "#2a3f5f"
           }
          },
          "ternary": {
           "aaxis": {
            "gridcolor": "white",
            "linecolor": "white",
            "ticks": ""
           },
           "baxis": {
            "gridcolor": "white",
            "linecolor": "white",
            "ticks": ""
           },
           "bgcolor": "#E5ECF6",
           "caxis": {
            "gridcolor": "white",
            "linecolor": "white",
            "ticks": ""
           }
          },
          "title": {
           "x": 0.05
          },
          "xaxis": {
           "automargin": true,
           "gridcolor": "white",
           "linecolor": "white",
           "ticks": "",
           "title": {
            "standoff": 15
           },
           "zerolinecolor": "white",
           "zerolinewidth": 2
          },
          "yaxis": {
           "automargin": true,
           "gridcolor": "white",
           "linecolor": "white",
           "ticks": "",
           "title": {
            "standoff": 15
           },
           "zerolinecolor": "white",
           "zerolinewidth": 2
          }
         }
        },
        "title": {
         "text": "More than one Genre of movies in Indian Cinema"
        }
       }
      }
     },
     "metadata": {},
     "output_type": "display_data"
    }
   ],
   "source": [
    "genrePie.loc[genrePie['Count'] < 50, 'Genre'] = 'Other'\n",
    "ax = px.pie(genrePie, values='Count', names='Genre', title='More than one Genre of movies in Indian Cinema')\n",
    "ax.show()"
   ]
  },
  {
   "cell_type": "code",
   "execution_count": 32,
   "id": "3e486bfc",
   "metadata": {
    "execution": {
     "iopub.execute_input": "2023-08-24T06:50:50.627410Z",
     "iopub.status.busy": "2023-08-24T06:50:50.626952Z",
     "iopub.status.idle": "2023-08-24T06:50:51.029382Z",
     "shell.execute_reply": "2023-08-24T06:50:51.028404Z"
    },
    "papermill": {
     "duration": 0.434009,
     "end_time": "2023-08-24T06:50:51.032227",
     "exception": false,
     "start_time": "2023-08-24T06:50:50.598218",
     "status": "completed"
    },
    "tags": []
   },
   "outputs": [
    {
     "data": {
      "image/png": "[encoded data removed]",
      "text/plain": [
       "<Figure size 640x480 with 1 Axes>"
      ]
     },
     "metadata": {},
     "output_type": "display_data"
    }
   ],
   "source": [
    "ax = sb.histplot(data = movie_data, x = \"Rating\", bins = 20, kde = True)\n",
    "ax.set_xlabel('Rating')\n",
    "ax.set_ylabel('Frequency')\n",
    "ax.set_title('Distribution of Movie Ratings')\n",
    "mpl.show()"
   ]
  },
  {
   "cell_type": "code",
   "execution_count": 33,
   "id": "dbd2f867",
   "metadata": {
    "execution": {
     "iopub.execute_input": "2023-08-24T06:50:51.096062Z",
     "iopub.status.busy": "2023-08-24T06:50:51.095261Z",
     "iopub.status.idle": "2023-08-24T06:50:51.330280Z",
     "shell.execute_reply": "2023-08-24T06:50:51.329312Z"
    },
    "papermill": {
     "duration": 0.26657,
     "end_time": "2023-08-24T06:50:51.332583",
     "exception": false,
     "start_time": "2023-08-24T06:50:51.066013",
     "status": "completed"
    },
    "tags": []
   },
   "outputs": [
    {
     "data": {
      "image/png": "[encoded data removed]",
      "text/plain": [
       "<Figure size 640x480 with 1 Axes>"
      ]
     },
     "metadata": {},
     "output_type": "display_data"
    }
   ],
   "source": [
    "ax = sb.boxplot(data=movie_data, y='Rating')\n",
    "ax.set_ylabel('Rating')\n",
    "ax.set_title('Box Plot of Movie Ratings')\n",
    "mpl.show()"
   ]
  },
  {
   "cell_type": "code",
   "execution_count": 34,
   "id": "bd441c22",
   "metadata": {
    "execution": {
     "iopub.execute_input": "2023-08-24T06:50:51.392656Z",
     "iopub.status.busy": "2023-08-24T06:50:51.391944Z",
     "iopub.status.idle": "2023-08-24T06:50:51.413507Z",
     "shell.execute_reply": "2023-08-24T06:50:51.412528Z"
    },
    "papermill": {
     "duration": 0.053463,
     "end_time": "2023-08-24T06:50:51.415802",
     "exception": false,
     "start_time": "2023-08-24T06:50:51.362339",
     "status": "completed"
    },
    "tags": []
   },
   "outputs": [
    {
     "data": {
      "text/html": [
       "<div>\n",
       "<style scoped>\n",
       "    .dataframe tbody tr th:only-of-type {\n",
       "        vertical-align: middle;\n",
       "    }\n",
       "\n",
       "    .dataframe tbody tr th {\n",
       "        vertical-align: top;\n",
       "    }\n",
       "\n",
       "    .dataframe thead th {\n",
       "        text-align: right;\n",
       "    }\n",
       "</style>\n",
       "<table border=\"1\" class=\"dataframe\">\n",
       "  <thead>\n",
       "    <tr style=\"text-align: right;\">\n",
       "      <th></th>\n",
       "      <th>Name</th>\n",
       "      <th>Year</th>\n",
       "      <th>Duration</th>\n",
       "      <th>Genre</th>\n",
       "      <th>Rating</th>\n",
       "      <th>Votes</th>\n",
       "      <th>Director</th>\n",
       "      <th>Actor 1</th>\n",
       "      <th>Actor 2</th>\n",
       "      <th>Actor 3</th>\n",
       "    </tr>\n",
       "  </thead>\n",
       "  <tbody>\n",
       "    <tr>\n",
       "      <th>1</th>\n",
       "      <td>#Gadhvi (He thought he was Gandhi)</td>\n",
       "      <td>2019</td>\n",
       "      <td>109</td>\n",
       "      <td>Drama</td>\n",
       "      <td>7.0</td>\n",
       "      <td>8</td>\n",
       "      <td>Gaurav Bakshi</td>\n",
       "      <td>Rasika Dugal</td>\n",
       "      <td>Vivek Ghamande</td>\n",
       "      <td>Arvind Jangid</td>\n",
       "    </tr>\n",
       "    <tr>\n",
       "      <th>3</th>\n",
       "      <td>#Yaaram</td>\n",
       "      <td>2019</td>\n",
       "      <td>110</td>\n",
       "      <td>Comedy, Romance</td>\n",
       "      <td>4.4</td>\n",
       "      <td>35</td>\n",
       "      <td>Ovais Khan</td>\n",
       "      <td>Prateik</td>\n",
       "      <td>Ishita Raj</td>\n",
       "      <td>Siddhant Kapoor</td>\n",
       "    </tr>\n",
       "    <tr>\n",
       "      <th>5</th>\n",
       "      <td>...Aur Pyaar Ho Gaya</td>\n",
       "      <td>1997</td>\n",
       "      <td>147</td>\n",
       "      <td>Comedy, Drama, Musical</td>\n",
       "      <td>4.7</td>\n",
       "      <td>827</td>\n",
       "      <td>Rahul Rawail</td>\n",
       "      <td>Bobby Deol</td>\n",
       "      <td>Aishwarya Rai Bachchan</td>\n",
       "      <td>Shammi Kapoor</td>\n",
       "    </tr>\n",
       "    <tr>\n",
       "      <th>6</th>\n",
       "      <td>...Yahaan</td>\n",
       "      <td>2005</td>\n",
       "      <td>142</td>\n",
       "      <td>Drama, Romance, War</td>\n",
       "      <td>7.4</td>\n",
       "      <td>1086</td>\n",
       "      <td>Shoojit Sircar</td>\n",
       "      <td>Jimmy Sheirgill</td>\n",
       "      <td>Minissha Lamba</td>\n",
       "      <td>Yashpal Sharma</td>\n",
       "    </tr>\n",
       "    <tr>\n",
       "      <th>8</th>\n",
       "      <td>?: A Question Mark</td>\n",
       "      <td>2012</td>\n",
       "      <td>82</td>\n",
       "      <td>Horror, Mystery, Thriller</td>\n",
       "      <td>5.6</td>\n",
       "      <td>326</td>\n",
       "      <td>Allyson Patel</td>\n",
       "      <td>Yash Dave</td>\n",
       "      <td>Muntazir Ahmad</td>\n",
       "      <td>Kiran Bhatia</td>\n",
       "    </tr>\n",
       "  </tbody>\n",
       "</table>\n",
       "</div>"
      ],
      "text/plain": [
       "                                 Name  Year  Duration  \\\n",
       "1  #Gadhvi (He thought he was Gandhi)  2019       109   \n",
       "3                             #Yaaram  2019       110   \n",
       "5                ...Aur Pyaar Ho Gaya  1997       147   \n",
       "6                           ...Yahaan  2005       142   \n",
       "8                  ?: A Question Mark  2012        82   \n",
       "\n",
       "                       Genre  Rating  Votes        Director          Actor 1  \\\n",
       "1                      Drama     7.0      8   Gaurav Bakshi     Rasika Dugal   \n",
       "3            Comedy, Romance     4.4     35      Ovais Khan          Prateik   \n",
       "5     Comedy, Drama, Musical     4.7    827    Rahul Rawail       Bobby Deol   \n",
       "6        Drama, Romance, War     7.4   1086  Shoojit Sircar  Jimmy Sheirgill   \n",
       "8  Horror, Mystery, Thriller     5.6    326   Allyson Patel        Yash Dave   \n",
       "\n",
       "                  Actor 2          Actor 3  \n",
       "1          Vivek Ghamande    Arvind Jangid  \n",
       "3              Ishita Raj  Siddhant Kapoor  \n",
       "5  Aishwarya Rai Bachchan    Shammi Kapoor  \n",
       "6          Minissha Lamba   Yashpal Sharma  \n",
       "8          Muntazir Ahmad     Kiran Bhatia  "
      ]
     },
     "execution_count": 34,
     "metadata": {},
     "output_type": "execute_result"
    }
   ],
   "source": [
    "Q1 = movie_data['Rating'].quantile(0.25)\n",
    "Q3 = movie_data['Rating'].quantile(0.75)\n",
    "IQR = Q3 - Q1\n",
    "lower_bound = Q1 - 1.5 * IQR\n",
    "upper_bound = Q3 + 1.5 * IQR\n",
    "movie_data = movie_data[(movie_data['Rating'] >= lower_bound) & (movie_data['Rating'] <= upper_bound)]\n",
    "movie_data.head(5)"
   ]
  },
  {
   "cell_type": "code",
   "execution_count": 35,
   "id": "e02e8014",
   "metadata": {
    "execution": {
     "iopub.execute_input": "2023-08-24T06:50:51.474260Z",
     "iopub.status.busy": "2023-08-24T06:50:51.473559Z",
     "iopub.status.idle": "2023-08-24T06:50:51.841774Z",
     "shell.execute_reply": "2023-08-24T06:50:51.840572Z"
    },
    "papermill": {
     "duration": 0.400449,
     "end_time": "2023-08-24T06:50:51.844368",
     "exception": false,
     "start_time": "2023-08-24T06:50:51.443919",
     "status": "completed"
    },
    "tags": []
   },
   "outputs": [
    {
     "data": {
      "image/png": "[encoded data removed]",
      "text/plain": [
       "<Figure size 1000x600 with 1 Axes>"
      ]
     },
     "metadata": {},
     "output_type": "display_data"
    }
   ],
   "source": [
    "rating_votes = movie_data.groupby('Rating')['Votes'].sum().reset_index()\n",
    "mpl.figure(figsize=(10, 6))\n",
    "ax_line_seaborn = sb.lineplot(data=rating_votes, x='Rating', y='Votes', marker='o')\n",
    "ax_line_seaborn.set_xlabel('Rating')\n",
    "ax_line_seaborn.set_ylabel('Total Votes')\n",
    "ax_line_seaborn.set_title('Total Votes per Rating')\n",
    "mpl.show()"
   ]
  },
  {
   "cell_type": "code",
   "execution_count": 36,
   "id": "16d4d636",
   "metadata": {
    "execution": {
     "iopub.execute_input": "2023-08-24T06:50:51.905624Z",
     "iopub.status.busy": "2023-08-24T06:50:51.905170Z",
     "iopub.status.idle": "2023-08-24T06:50:52.419893Z",
     "shell.execute_reply": "2023-08-24T06:50:52.418613Z"
    },
    "papermill": {
     "duration": 0.550119,
     "end_time": "2023-08-24T06:50:52.423640",
     "exception": false,
     "start_time": "2023-08-24T06:50:51.873521",
     "status": "completed"
    },
    "tags": []
   },
   "outputs": [
    {
     "data": {
      "image/png": "[encoded data removed]",
      "text/plain": [
       "<Figure size 1000x600 with 1 Axes>"
      ]
     },
     "metadata": {},
     "output_type": "display_data"
    }
   ],
   "source": [
    "mpl.figure(figsize=(10, 6))\n",
    "ax = sb.barplot(x=directors.head(20).index, y=directors.head(20).values, palette='viridis')\n",
    "ax.set_xlabel('Directors')\n",
    "ax.set_ylabel('Frequency of Movies')\n",
    "ax.set_title('Top 20 Directors by Frequency of Movies')\n",
    "ax.set_xticklabels(ax.get_xticklabels(), rotation=90)\n",
    "mpl.show()"
   ]
  },
  {
   "cell_type": "code",
   "execution_count": 37,
   "id": "95ed274a",
   "metadata": {
    "execution": {
     "iopub.execute_input": "2023-08-24T06:50:52.490422Z",
     "iopub.status.busy": "2023-08-24T06:50:52.489633Z",
     "iopub.status.idle": "2023-08-24T06:50:53.003496Z",
     "shell.execute_reply": "2023-08-24T06:50:53.002227Z"
    },
    "papermill": {
     "duration": 0.551183,
     "end_time": "2023-08-24T06:50:53.006016",
     "exception": false,
     "start_time": "2023-08-24T06:50:52.454833",
     "status": "completed"
    },
    "tags": []
   },
   "outputs": [
    {
     "data": {
      "image/png": "[encoded data removed]",
      "text/plain": [
       "<Figure size 1000x600 with 1 Axes>"
      ]
     },
     "metadata": {},
     "output_type": "display_data"
    }
   ],
   "source": [
    "mpl.figure(figsize=(10, 6))\n",
    "ax = sb.barplot(x=actors.head(20).index, y=actors.head(20).values, palette='viridis')\n",
    "ax.set_xlabel('Actors')\n",
    "ax.set_ylabel('Total Number of Movies')\n",
    "ax.set_title('Top 20 Actors with Total Number of Movies')\n",
    "ax.set_xticklabels(ax.get_xticklabels(), rotation=90)\n",
    "mpl.show()"
   ]
  },
  {
   "cell_type": "code",
   "execution_count": 38,
   "id": "239dae4e",
   "metadata": {
    "execution": {
     "iopub.execute_input": "2023-08-24T06:50:53.076877Z",
     "iopub.status.busy": "2023-08-24T06:50:53.076012Z",
     "iopub.status.idle": "2023-08-24T06:50:53.128284Z",
     "shell.execute_reply": "2023-08-24T06:50:53.126920Z"
    },
    "papermill": {
     "duration": 0.093651,
     "end_time": "2023-08-24T06:50:53.131032",
     "exception": false,
     "start_time": "2023-08-24T06:50:53.037381",
     "status": "completed"
    },
    "tags": []
   },
   "outputs": [
    {
     "data": {
      "text/html": [
       "<div>\n",
       "<style scoped>\n",
       "    .dataframe tbody tr th:only-of-type {\n",
       "        vertical-align: middle;\n",
       "    }\n",
       "\n",
       "    .dataframe tbody tr th {\n",
       "        vertical-align: top;\n",
       "    }\n",
       "\n",
       "    .dataframe thead th {\n",
       "        text-align: right;\n",
       "    }\n",
       "</style>\n",
       "<table border=\"1\" class=\"dataframe\">\n",
       "  <thead>\n",
       "    <tr style=\"text-align: right;\">\n",
       "      <th></th>\n",
       "      <th>Name</th>\n",
       "      <th>Year</th>\n",
       "      <th>Duration</th>\n",
       "      <th>Genre</th>\n",
       "      <th>Rating</th>\n",
       "      <th>Votes</th>\n",
       "      <th>Director</th>\n",
       "      <th>Actor 1</th>\n",
       "      <th>Actor 2</th>\n",
       "      <th>Actor 3</th>\n",
       "      <th>Actor</th>\n",
       "      <th>Directors</th>\n",
       "      <th>Genres</th>\n",
       "      <th>Actors</th>\n",
       "    </tr>\n",
       "  </thead>\n",
       "  <tbody>\n",
       "    <tr>\n",
       "      <th>1</th>\n",
       "      <td>#Gadhvi (He thought he was Gandhi)</td>\n",
       "      <td>2019</td>\n",
       "      <td>109</td>\n",
       "      <td>Drama</td>\n",
       "      <td>7.0</td>\n",
       "      <td>8</td>\n",
       "      <td>Gaurav Bakshi</td>\n",
       "      <td>Rasika Dugal</td>\n",
       "      <td>Vivek Ghamande</td>\n",
       "      <td>Arvind Jangid</td>\n",
       "      <td>Rasika Dugal, Vivek Ghamande, Arvind Jangid</td>\n",
       "      <td>629</td>\n",
       "      <td>229</td>\n",
       "      <td>3858</td>\n",
       "    </tr>\n",
       "    <tr>\n",
       "      <th>3</th>\n",
       "      <td>#Yaaram</td>\n",
       "      <td>2019</td>\n",
       "      <td>110</td>\n",
       "      <td>Comedy, Romance</td>\n",
       "      <td>4.4</td>\n",
       "      <td>35</td>\n",
       "      <td>Ovais Khan</td>\n",
       "      <td>Prateik</td>\n",
       "      <td>Ishita Raj</td>\n",
       "      <td>Siddhant Kapoor</td>\n",
       "      <td>Prateik, Ishita Raj, Siddhant Kapoor</td>\n",
       "      <td>1334</td>\n",
       "      <td>184</td>\n",
       "      <td>3326</td>\n",
       "    </tr>\n",
       "    <tr>\n",
       "      <th>5</th>\n",
       "      <td>...Aur Pyaar Ho Gaya</td>\n",
       "      <td>1997</td>\n",
       "      <td>147</td>\n",
       "      <td>Comedy, Drama, Musical</td>\n",
       "      <td>4.7</td>\n",
       "      <td>827</td>\n",
       "      <td>Rahul Rawail</td>\n",
       "      <td>Bobby Deol</td>\n",
       "      <td>Aishwarya Rai Bachchan</td>\n",
       "      <td>Shammi Kapoor</td>\n",
       "      <td>Bobby Deol, Aishwarya Rai Bachchan, Shammi Kapoor</td>\n",
       "      <td>1527</td>\n",
       "      <td>157</td>\n",
       "      <td>1112</td>\n",
       "    </tr>\n",
       "    <tr>\n",
       "      <th>6</th>\n",
       "      <td>...Yahaan</td>\n",
       "      <td>2005</td>\n",
       "      <td>142</td>\n",
       "      <td>Drama, Romance, War</td>\n",
       "      <td>7.4</td>\n",
       "      <td>1086</td>\n",
       "      <td>Shoojit Sircar</td>\n",
       "      <td>Jimmy Sheirgill</td>\n",
       "      <td>Minissha Lamba</td>\n",
       "      <td>Yashpal Sharma</td>\n",
       "      <td>Jimmy Sheirgill, Minissha Lamba, Yashpal Sharma</td>\n",
       "      <td>2037</td>\n",
       "      <td>289</td>\n",
       "      <td>2075</td>\n",
       "    </tr>\n",
       "    <tr>\n",
       "      <th>8</th>\n",
       "      <td>?: A Question Mark</td>\n",
       "      <td>2012</td>\n",
       "      <td>82</td>\n",
       "      <td>Horror, Mystery, Thriller</td>\n",
       "      <td>5.6</td>\n",
       "      <td>326</td>\n",
       "      <td>Allyson Patel</td>\n",
       "      <td>Yash Dave</td>\n",
       "      <td>Muntazir Ahmad</td>\n",
       "      <td>Kiran Bhatia</td>\n",
       "      <td>Yash Dave, Muntazir Ahmad, Kiran Bhatia</td>\n",
       "      <td>135</td>\n",
       "      <td>320</td>\n",
       "      <td>5535</td>\n",
       "    </tr>\n",
       "  </tbody>\n",
       "</table>\n",
       "</div>"
      ],
      "text/plain": [
       "                                 Name  Year  Duration  \\\n",
       "1  #Gadhvi (He thought he was Gandhi)  2019       109   \n",
       "3                             #Yaaram  2019       110   \n",
       "5                ...Aur Pyaar Ho Gaya  1997       147   \n",
       "6                           ...Yahaan  2005       142   \n",
       "8                  ?: A Question Mark  2012        82   \n",
       "\n",
       "                       Genre  Rating  Votes        Director          Actor 1  \\\n",
       "1                      Drama     7.0      8   Gaurav Bakshi     Rasika Dugal   \n",
       "3            Comedy, Romance     4.4     35      Ovais Khan          Prateik   \n",
       "5     Comedy, Drama, Musical     4.7    827    Rahul Rawail       Bobby Deol   \n",
       "6        Drama, Romance, War     7.4   1086  Shoojit Sircar  Jimmy Sheirgill   \n",
       "8  Horror, Mystery, Thriller     5.6    326   Allyson Patel        Yash Dave   \n",
       "\n",
       "                  Actor 2          Actor 3  \\\n",
       "1          Vivek Ghamande    Arvind Jangid   \n",
       "3              Ishita Raj  Siddhant Kapoor   \n",
       "5  Aishwarya Rai Bachchan    Shammi Kapoor   \n",
       "6          Minissha Lamba   Yashpal Sharma   \n",
       "8          Muntazir Ahmad     Kiran Bhatia   \n",
       "\n",
       "                                               Actor  Directors  Genres  \\\n",
       "1        Rasika Dugal, Vivek Ghamande, Arvind Jangid        629     229   \n",
       "3               Prateik, Ishita Raj, Siddhant Kapoor       1334     184   \n",
       "5  Bobby Deol, Aishwarya Rai Bachchan, Shammi Kapoor       1527     157   \n",
       "6    Jimmy Sheirgill, Minissha Lamba, Yashpal Sharma       2037     289   \n",
       "8            Yash Dave, Muntazir Ahmad, Kiran Bhatia        135     320   \n",
       "\n",
       "   Actors  \n",
       "1    3858  \n",
       "3    3326  \n",
       "5    1112  \n",
       "6    2075  \n",
       "8    5535  "
      ]
     },
     "execution_count": 38,
     "metadata": {},
     "output_type": "execute_result"
    }
   ],
   "source": [
    "movie_data[\"Actor\"] = movie_data['Actor 1'] + ', ' + movie_data['Actor 2'] + ', ' + movie_data['Actor 3']\n",
    "movie_data[\"Directors\"] = movie_data['Director'].astype('category').cat.codes\n",
    "movie_data[\"Genres\"] = movie_data['Genre'].astype('category').cat.codes\n",
    "movie_data[\"Actors\"] = movie_data['Actor'].astype('category').cat.codes\n",
    "movie_data.head(5)"
   ]
  },
  {
   "cell_type": "code",
   "execution_count": 39,
   "id": "b0455c79",
   "metadata": {
    "execution": {
     "iopub.execute_input": "2023-08-24T06:50:53.196763Z",
     "iopub.status.busy": "2023-08-24T06:50:53.195530Z",
     "iopub.status.idle": "2023-08-24T06:50:53.455152Z",
     "shell.execute_reply": "2023-08-24T06:50:53.453854Z"
    },
    "papermill": {
     "duration": 0.29519,
     "end_time": "2023-08-24T06:50:53.457897",
     "exception": false,
     "start_time": "2023-08-24T06:50:53.162707",
     "status": "completed"
    },
    "tags": []
   },
   "outputs": [
    {
     "data": {
      "image/png": "[encoded data removed]",
      "text/plain": [
       "<Figure size 640x480 with 1 Axes>"
      ]
     },
     "metadata": {},
     "output_type": "display_data"
    }
   ],
   "source": [
    "ax = sb.boxplot(data=movie_data, y='Genres')\n",
    "ax.set_ylabel('Genres')\n",
    "ax.set_title('Box Plot of Genres')\n",
    "mpl.show()"
   ]
  },
  {
   "cell_type": "code",
   "execution_count": 40,
   "id": "b31c0b30",
   "metadata": {
    "execution": {
     "iopub.execute_input": "2023-08-24T06:50:53.524848Z",
     "iopub.status.busy": "2023-08-24T06:50:53.524414Z",
     "iopub.status.idle": "2023-08-24T06:50:53.552197Z",
     "shell.execute_reply": "2023-08-24T06:50:53.551004Z"
    },
    "papermill": {
     "duration": 0.064199,
     "end_time": "2023-08-24T06:50:53.554830",
     "exception": false,
     "start_time": "2023-08-24T06:50:53.490631",
     "status": "completed"
    },
    "tags": []
   },
   "outputs": [
    {
     "data": {
      "text/html": [
       "<div>\n",
       "<style scoped>\n",
       "    .dataframe tbody tr th:only-of-type {\n",
       "        vertical-align: middle;\n",
       "    }\n",
       "\n",
       "    .dataframe tbody tr th {\n",
       "        vertical-align: top;\n",
       "    }\n",
       "\n",
       "    .dataframe thead th {\n",
       "        text-align: right;\n",
       "    }\n",
       "</style>\n",
       "<table border=\"1\" class=\"dataframe\">\n",
       "  <thead>\n",
       "    <tr style=\"text-align: right;\">\n",
       "      <th></th>\n",
       "      <th>Name</th>\n",
       "      <th>Year</th>\n",
       "      <th>Duration</th>\n",
       "      <th>Genre</th>\n",
       "      <th>Rating</th>\n",
       "      <th>Votes</th>\n",
       "      <th>Director</th>\n",
       "      <th>Actor 1</th>\n",
       "      <th>Actor 2</th>\n",
       "      <th>Actor 3</th>\n",
       "      <th>Actor</th>\n",
       "      <th>Directors</th>\n",
       "      <th>Genres</th>\n",
       "      <th>Actors</th>\n",
       "    </tr>\n",
       "  </thead>\n",
       "  <tbody>\n",
       "    <tr>\n",
       "      <th>1</th>\n",
       "      <td>#Gadhvi (He thought he was Gandhi)</td>\n",
       "      <td>2019</td>\n",
       "      <td>109</td>\n",
       "      <td>Drama</td>\n",
       "      <td>7.0</td>\n",
       "      <td>8</td>\n",
       "      <td>Gaurav Bakshi</td>\n",
       "      <td>Rasika Dugal</td>\n",
       "      <td>Vivek Ghamande</td>\n",
       "      <td>Arvind Jangid</td>\n",
       "      <td>Rasika Dugal, Vivek Ghamande, Arvind Jangid</td>\n",
       "      <td>629</td>\n",
       "      <td>229</td>\n",
       "      <td>3858</td>\n",
       "    </tr>\n",
       "    <tr>\n",
       "      <th>3</th>\n",
       "      <td>#Yaaram</td>\n",
       "      <td>2019</td>\n",
       "      <td>110</td>\n",
       "      <td>Comedy, Romance</td>\n",
       "      <td>4.4</td>\n",
       "      <td>35</td>\n",
       "      <td>Ovais Khan</td>\n",
       "      <td>Prateik</td>\n",
       "      <td>Ishita Raj</td>\n",
       "      <td>Siddhant Kapoor</td>\n",
       "      <td>Prateik, Ishita Raj, Siddhant Kapoor</td>\n",
       "      <td>1334</td>\n",
       "      <td>184</td>\n",
       "      <td>3326</td>\n",
       "    </tr>\n",
       "    <tr>\n",
       "      <th>5</th>\n",
       "      <td>...Aur Pyaar Ho Gaya</td>\n",
       "      <td>1997</td>\n",
       "      <td>147</td>\n",
       "      <td>Comedy, Drama, Musical</td>\n",
       "      <td>4.7</td>\n",
       "      <td>827</td>\n",
       "      <td>Rahul Rawail</td>\n",
       "      <td>Bobby Deol</td>\n",
       "      <td>Aishwarya Rai Bachchan</td>\n",
       "      <td>Shammi Kapoor</td>\n",
       "      <td>Bobby Deol, Aishwarya Rai Bachchan, Shammi Kapoor</td>\n",
       "      <td>1527</td>\n",
       "      <td>157</td>\n",
       "      <td>1112</td>\n",
       "    </tr>\n",
       "    <tr>\n",
       "      <th>6</th>\n",
       "      <td>...Yahaan</td>\n",
       "      <td>2005</td>\n",
       "      <td>142</td>\n",
       "      <td>Drama, Romance, War</td>\n",
       "      <td>7.4</td>\n",
       "      <td>1086</td>\n",
       "      <td>Shoojit Sircar</td>\n",
       "      <td>Jimmy Sheirgill</td>\n",
       "      <td>Minissha Lamba</td>\n",
       "      <td>Yashpal Sharma</td>\n",
       "      <td>Jimmy Sheirgill, Minissha Lamba, Yashpal Sharma</td>\n",
       "      <td>2037</td>\n",
       "      <td>289</td>\n",
       "      <td>2075</td>\n",
       "    </tr>\n",
       "    <tr>\n",
       "      <th>8</th>\n",
       "      <td>?: A Question Mark</td>\n",
       "      <td>2012</td>\n",
       "      <td>82</td>\n",
       "      <td>Horror, Mystery, Thriller</td>\n",
       "      <td>5.6</td>\n",
       "      <td>326</td>\n",
       "      <td>Allyson Patel</td>\n",
       "      <td>Yash Dave</td>\n",
       "      <td>Muntazir Ahmad</td>\n",
       "      <td>Kiran Bhatia</td>\n",
       "      <td>Yash Dave, Muntazir Ahmad, Kiran Bhatia</td>\n",
       "      <td>135</td>\n",
       "      <td>320</td>\n",
       "      <td>5535</td>\n",
       "    </tr>\n",
       "  </tbody>\n",
       "</table>\n",
       "</div>"
      ],
      "text/plain": [
       "                                 Name  Year  Duration  \\\n",
       "1  #Gadhvi (He thought he was Gandhi)  2019       109   \n",
       "3                             #Yaaram  2019       110   \n",
       "5                ...Aur Pyaar Ho Gaya  1997       147   \n",
       "6                           ...Yahaan  2005       142   \n",
       "8                  ?: A Question Mark  2012        82   \n",
       "\n",
       "                       Genre  Rating  Votes        Director          Actor 1  \\\n",
       "1                      Drama     7.0      8   Gaurav Bakshi     Rasika Dugal   \n",
       "3            Comedy, Romance     4.4     35      Ovais Khan          Prateik   \n",
       "5     Comedy, Drama, Musical     4.7    827    Rahul Rawail       Bobby Deol   \n",
       "6        Drama, Romance, War     7.4   1086  Shoojit Sircar  Jimmy Sheirgill   \n",
       "8  Horror, Mystery, Thriller     5.6    326   Allyson Patel        Yash Dave   \n",
       "\n",
       "                  Actor 2          Actor 3  \\\n",
       "1          Vivek Ghamande    Arvind Jangid   \n",
       "3              Ishita Raj  Siddhant Kapoor   \n",
       "5  Aishwarya Rai Bachchan    Shammi Kapoor   \n",
       "6          Minissha Lamba   Yashpal Sharma   \n",
       "8          Muntazir Ahmad     Kiran Bhatia   \n",
       "\n",
       "                                               Actor  Directors  Genres  \\\n",
       "1        Rasika Dugal, Vivek Ghamande, Arvind Jangid        629     229   \n",
       "3               Prateik, Ishita Raj, Siddhant Kapoor       1334     184   \n",
       "5  Bobby Deol, Aishwarya Rai Bachchan, Shammi Kapoor       1527     157   \n",
       "6    Jimmy Sheirgill, Minissha Lamba, Yashpal Sharma       2037     289   \n",
       "8            Yash Dave, Muntazir Ahmad, Kiran Bhatia        135     320   \n",
       "\n",
       "   Actors  \n",
       "1    3858  \n",
       "3    3326  \n",
       "5    1112  \n",
       "6    2075  \n",
       "8    5535  "
      ]
     },
     "execution_count": 40,
     "metadata": {},
     "output_type": "execute_result"
    }
   ],
   "source": [
    "Q1 = movie_data['Genres'].quantile(0.25)\n",
    "Q3 = movie_data['Genres'].quantile(0.75)\n",
    "IQR = Q3 - Q1\n",
    "lower_bound = Q1 - 1.5 * IQR\n",
    "upper_bound = Q3 + 1.5 * IQR\n",
    "movie_data = movie_data[(movie_data['Genres'] >= lower_bound) & (movie_data['Genres'] <= upper_bound)]\n",
    "movie_data.head(5)"
   ]
  },
  {
   "cell_type": "code",
   "execution_count": 41,
   "id": "a1c2536e",
   "metadata": {
    "execution": {
     "iopub.execute_input": "2023-08-24T06:50:53.622250Z",
     "iopub.status.busy": "2023-08-24T06:50:53.621820Z",
     "iopub.status.idle": "2023-08-24T06:50:53.861219Z",
     "shell.execute_reply": "2023-08-24T06:50:53.860338Z"
    },
    "papermill": {
     "duration": 0.276502,
     "end_time": "2023-08-24T06:50:53.863660",
     "exception": false,
     "start_time": "2023-08-24T06:50:53.587158",
     "status": "completed"
    },
    "tags": []
   },
   "outputs": [
    {
     "data": {
      "image/png": "[encoded data removed]",
      "text/plain": [
       "<Figure size 640x480 with 1 Axes>"
      ]
     },
     "metadata": {},
     "output_type": "display_data"
    }
   ],
   "source": [
    "ax = sb.boxplot(data=movie_data, y='Directors')\n",
    "ax.set_ylabel('Directors')\n",
    "ax.set_title('Box Plot of Directors')\n",
    "mpl.show()"
   ]
  },
  {
   "cell_type": "code",
   "execution_count": 42,
   "id": "c8cef841",
   "metadata": {
    "execution": {
     "iopub.execute_input": "2023-08-24T06:50:53.932479Z",
     "iopub.status.busy": "2023-08-24T06:50:53.931220Z",
     "iopub.status.idle": "2023-08-24T06:50:53.956233Z",
     "shell.execute_reply": "2023-08-24T06:50:53.954904Z"
    },
    "papermill": {
     "duration": 0.06222,
     "end_time": "2023-08-24T06:50:53.959079",
     "exception": false,
     "start_time": "2023-08-24T06:50:53.896859",
     "status": "completed"
    },
    "tags": []
   },
   "outputs": [
    {
     "data": {
      "text/html": [
       "<div>\n",
       "<style scoped>\n",
       "    .dataframe tbody tr th:only-of-type {\n",
       "        vertical-align: middle;\n",
       "    }\n",
       "\n",
       "    .dataframe tbody tr th {\n",
       "        vertical-align: top;\n",
       "    }\n",
       "\n",
       "    .dataframe thead th {\n",
       "        text-align: right;\n",
       "    }\n",
       "</style>\n",
       "<table border=\"1\" class=\"dataframe\">\n",
       "  <thead>\n",
       "    <tr style=\"text-align: right;\">\n",
       "      <th></th>\n",
       "      <th>Name</th>\n",
       "      <th>Year</th>\n",
       "      <th>Duration</th>\n",
       "      <th>Genre</th>\n",
       "      <th>Rating</th>\n",
       "      <th>Votes</th>\n",
       "      <th>Director</th>\n",
       "      <th>Actor 1</th>\n",
       "      <th>Actor 2</th>\n",
       "      <th>Actor 3</th>\n",
       "      <th>Actor</th>\n",
       "      <th>Directors</th>\n",
       "      <th>Genres</th>\n",
       "      <th>Actors</th>\n",
       "    </tr>\n",
       "  </thead>\n",
       "  <tbody>\n",
       "    <tr>\n",
       "      <th>1</th>\n",
       "      <td>#Gadhvi (He thought he was Gandhi)</td>\n",
       "      <td>2019</td>\n",
       "      <td>109</td>\n",
       "      <td>Drama</td>\n",
       "      <td>7.0</td>\n",
       "      <td>8</td>\n",
       "      <td>Gaurav Bakshi</td>\n",
       "      <td>Rasika Dugal</td>\n",
       "      <td>Vivek Ghamande</td>\n",
       "      <td>Arvind Jangid</td>\n",
       "      <td>Rasika Dugal, Vivek Ghamande, Arvind Jangid</td>\n",
       "      <td>629</td>\n",
       "      <td>229</td>\n",
       "      <td>3858</td>\n",
       "    </tr>\n",
       "    <tr>\n",
       "      <th>3</th>\n",
       "      <td>#Yaaram</td>\n",
       "      <td>2019</td>\n",
       "      <td>110</td>\n",
       "      <td>Comedy, Romance</td>\n",
       "      <td>4.4</td>\n",
       "      <td>35</td>\n",
       "      <td>Ovais Khan</td>\n",
       "      <td>Prateik</td>\n",
       "      <td>Ishita Raj</td>\n",
       "      <td>Siddhant Kapoor</td>\n",
       "      <td>Prateik, Ishita Raj, Siddhant Kapoor</td>\n",
       "      <td>1334</td>\n",
       "      <td>184</td>\n",
       "      <td>3326</td>\n",
       "    </tr>\n",
       "    <tr>\n",
       "      <th>5</th>\n",
       "      <td>...Aur Pyaar Ho Gaya</td>\n",
       "      <td>1997</td>\n",
       "      <td>147</td>\n",
       "      <td>Comedy, Drama, Musical</td>\n",
       "      <td>4.7</td>\n",
       "      <td>827</td>\n",
       "      <td>Rahul Rawail</td>\n",
       "      <td>Bobby Deol</td>\n",
       "      <td>Aishwarya Rai Bachchan</td>\n",
       "      <td>Shammi Kapoor</td>\n",
       "      <td>Bobby Deol, Aishwarya Rai Bachchan, Shammi Kapoor</td>\n",
       "      <td>1527</td>\n",
       "      <td>157</td>\n",
       "      <td>1112</td>\n",
       "    </tr>\n",
       "    <tr>\n",
       "      <th>6</th>\n",
       "      <td>...Yahaan</td>\n",
       "      <td>2005</td>\n",
       "      <td>142</td>\n",
       "      <td>Drama, Romance, War</td>\n",
       "      <td>7.4</td>\n",
       "      <td>1086</td>\n",
       "      <td>Shoojit Sircar</td>\n",
       "      <td>Jimmy Sheirgill</td>\n",
       "      <td>Minissha Lamba</td>\n",
       "      <td>Yashpal Sharma</td>\n",
       "      <td>Jimmy Sheirgill, Minissha Lamba, Yashpal Sharma</td>\n",
       "      <td>2037</td>\n",
       "      <td>289</td>\n",
       "      <td>2075</td>\n",
       "    </tr>\n",
       "    <tr>\n",
       "      <th>8</th>\n",
       "      <td>?: A Question Mark</td>\n",
       "      <td>2012</td>\n",
       "      <td>82</td>\n",
       "      <td>Horror, Mystery, Thriller</td>\n",
       "      <td>5.6</td>\n",
       "      <td>326</td>\n",
       "      <td>Allyson Patel</td>\n",
       "      <td>Yash Dave</td>\n",
       "      <td>Muntazir Ahmad</td>\n",
       "      <td>Kiran Bhatia</td>\n",
       "      <td>Yash Dave, Muntazir Ahmad, Kiran Bhatia</td>\n",
       "      <td>135</td>\n",
       "      <td>320</td>\n",
       "      <td>5535</td>\n",
       "    </tr>\n",
       "  </tbody>\n",
       "</table>\n",
       "</div>"
      ],
      "text/plain": [
       "                                 Name  Year  Duration  \\\n",
       "1  #Gadhvi (He thought he was Gandhi)  2019       109   \n",
       "3                             #Yaaram  2019       110   \n",
       "5                ...Aur Pyaar Ho Gaya  1997       147   \n",
       "6                           ...Yahaan  2005       142   \n",
       "8                  ?: A Question Mark  2012        82   \n",
       "\n",
       "                       Genre  Rating  Votes        Director          Actor 1  \\\n",
       "1                      Drama     7.0      8   Gaurav Bakshi     Rasika Dugal   \n",
       "3            Comedy, Romance     4.4     35      Ovais Khan          Prateik   \n",
       "5     Comedy, Drama, Musical     4.7    827    Rahul Rawail       Bobby Deol   \n",
       "6        Drama, Romance, War     7.4   1086  Shoojit Sircar  Jimmy Sheirgill   \n",
       "8  Horror, Mystery, Thriller     5.6    326   Allyson Patel        Yash Dave   \n",
       "\n",
       "                  Actor 2          Actor 3  \\\n",
       "1          Vivek Ghamande    Arvind Jangid   \n",
       "3              Ishita Raj  Siddhant Kapoor   \n",
       "5  Aishwarya Rai Bachchan    Shammi Kapoor   \n",
       "6          Minissha Lamba   Yashpal Sharma   \n",
       "8          Muntazir Ahmad     Kiran Bhatia   \n",
       "\n",
       "                                               Actor  Directors  Genres  \\\n",
       "1        Rasika Dugal, Vivek Ghamande, Arvind Jangid        629     229   \n",
       "3               Prateik, Ishita Raj, Siddhant Kapoor       1334     184   \n",
       "5  Bobby Deol, Aishwarya Rai Bachchan, Shammi Kapoor       1527     157   \n",
       "6    Jimmy Sheirgill, Minissha Lamba, Yashpal Sharma       2037     289   \n",
       "8            Yash Dave, Muntazir Ahmad, Kiran Bhatia        135     320   \n",
       "\n",
       "   Actors  \n",
       "1    3858  \n",
       "3    3326  \n",
       "5    1112  \n",
       "6    2075  \n",
       "8    5535  "
      ]
     },
     "execution_count": 42,
     "metadata": {},
     "output_type": "execute_result"
    }
   ],
   "source": [
    "Q1 = movie_data['Directors'].quantile(0.25)\n",
    "Q3 = movie_data['Directors'].quantile(0.75)\n",
    "IQR = Q3 - Q1\n",
    "lower_bound = Q1 - 1.5 * IQR\n",
    "upper_bound = Q3 + 1.5 * IQR\n",
    "movie_data = movie_data[(movie_data['Directors'] >= lower_bound) & (movie_data['Directors'] <= upper_bound)]\n",
    "movie_data.head(5)"
   ]
  },
  {
   "cell_type": "code",
   "execution_count": 43,
   "id": "4b6dd2dc",
   "metadata": {
    "execution": {
     "iopub.execute_input": "2023-08-24T06:50:54.029237Z",
     "iopub.status.busy": "2023-08-24T06:50:54.028782Z",
     "iopub.status.idle": "2023-08-24T06:50:54.270870Z",
     "shell.execute_reply": "2023-08-24T06:50:54.269550Z"
    },
    "papermill": {
     "duration": 0.279272,
     "end_time": "2023-08-24T06:50:54.273587",
     "exception": false,
     "start_time": "2023-08-24T06:50:53.994315",
     "status": "completed"
    },
    "tags": []
   },
   "outputs": [
    {
     "data": {
      "image/png": "[encoded data removed]",
      "text/plain": [
       "<Figure size 640x480 with 1 Axes>"
      ]
     },
     "metadata": {},
     "output_type": "display_data"
    }
   ],
   "source": [
    "ax = sb.boxplot(data=movie_data, y='Actors')\n",
    "ax.set_ylabel('Actors')\n",
    "ax.set_title('Box Plot of Actors')\n",
    "mpl.show()"
   ]
  },
  {
   "cell_type": "code",
   "execution_count": 44,
   "id": "c9ef8429",
   "metadata": {
    "execution": {
     "iopub.execute_input": "2023-08-24T06:50:54.344256Z",
     "iopub.status.busy": "2023-08-24T06:50:54.343791Z",
     "iopub.status.idle": "2023-08-24T06:50:54.369291Z",
     "shell.execute_reply": "2023-08-24T06:50:54.368376Z"
    },
    "papermill": {
     "duration": 0.063642,
     "end_time": "2023-08-24T06:50:54.371551",
     "exception": false,
     "start_time": "2023-08-24T06:50:54.307909",
     "status": "completed"
    },
    "tags": []
   },
   "outputs": [
    {
     "data": {
      "text/html": [
       "<div>\n",
       "<style scoped>\n",
       "    .dataframe tbody tr th:only-of-type {\n",
       "        vertical-align: middle;\n",
       "    }\n",
       "\n",
       "    .dataframe tbody tr th {\n",
       "        vertical-align: top;\n",
       "    }\n",
       "\n",
       "    .dataframe thead th {\n",
       "        text-align: right;\n",
       "    }\n",
       "</style>\n",
       "<table border=\"1\" class=\"dataframe\">\n",
       "  <thead>\n",
       "    <tr style=\"text-align: right;\">\n",
       "      <th></th>\n",
       "      <th>Name</th>\n",
       "      <th>Year</th>\n",
       "      <th>Duration</th>\n",
       "      <th>Genre</th>\n",
       "      <th>Rating</th>\n",
       "      <th>Votes</th>\n",
       "      <th>Director</th>\n",
       "      <th>Actor 1</th>\n",
       "      <th>Actor 2</th>\n",
       "      <th>Actor 3</th>\n",
       "      <th>Actor</th>\n",
       "      <th>Directors</th>\n",
       "      <th>Genres</th>\n",
       "      <th>Actors</th>\n",
       "    </tr>\n",
       "  </thead>\n",
       "  <tbody>\n",
       "    <tr>\n",
       "      <th>1</th>\n",
       "      <td>#Gadhvi (He thought he was Gandhi)</td>\n",
       "      <td>2019</td>\n",
       "      <td>109</td>\n",
       "      <td>Drama</td>\n",
       "      <td>7.0</td>\n",
       "      <td>8</td>\n",
       "      <td>Gaurav Bakshi</td>\n",
       "      <td>Rasika Dugal</td>\n",
       "      <td>Vivek Ghamande</td>\n",
       "      <td>Arvind Jangid</td>\n",
       "      <td>Rasika Dugal, Vivek Ghamande, Arvind Jangid</td>\n",
       "      <td>629</td>\n",
       "      <td>229</td>\n",
       "      <td>3858</td>\n",
       "    </tr>\n",
       "    <tr>\n",
       "      <th>3</th>\n",
       "      <td>#Yaaram</td>\n",
       "      <td>2019</td>\n",
       "      <td>110</td>\n",
       "      <td>Comedy, Romance</td>\n",
       "      <td>4.4</td>\n",
       "      <td>35</td>\n",
       "      <td>Ovais Khan</td>\n",
       "      <td>Prateik</td>\n",
       "      <td>Ishita Raj</td>\n",
       "      <td>Siddhant Kapoor</td>\n",
       "      <td>Prateik, Ishita Raj, Siddhant Kapoor</td>\n",
       "      <td>1334</td>\n",
       "      <td>184</td>\n",
       "      <td>3326</td>\n",
       "    </tr>\n",
       "    <tr>\n",
       "      <th>5</th>\n",
       "      <td>...Aur Pyaar Ho Gaya</td>\n",
       "      <td>1997</td>\n",
       "      <td>147</td>\n",
       "      <td>Comedy, Drama, Musical</td>\n",
       "      <td>4.7</td>\n",
       "      <td>827</td>\n",
       "      <td>Rahul Rawail</td>\n",
       "      <td>Bobby Deol</td>\n",
       "      <td>Aishwarya Rai Bachchan</td>\n",
       "      <td>Shammi Kapoor</td>\n",
       "      <td>Bobby Deol, Aishwarya Rai Bachchan, Shammi Kapoor</td>\n",
       "      <td>1527</td>\n",
       "      <td>157</td>\n",
       "      <td>1112</td>\n",
       "    </tr>\n",
       "    <tr>\n",
       "      <th>6</th>\n",
       "      <td>...Yahaan</td>\n",
       "      <td>2005</td>\n",
       "      <td>142</td>\n",
       "      <td>Drama, Romance, War</td>\n",
       "      <td>7.4</td>\n",
       "      <td>1086</td>\n",
       "      <td>Shoojit Sircar</td>\n",
       "      <td>Jimmy Sheirgill</td>\n",
       "      <td>Minissha Lamba</td>\n",
       "      <td>Yashpal Sharma</td>\n",
       "      <td>Jimmy Sheirgill, Minissha Lamba, Yashpal Sharma</td>\n",
       "      <td>2037</td>\n",
       "      <td>289</td>\n",
       "      <td>2075</td>\n",
       "    </tr>\n",
       "    <tr>\n",
       "      <th>8</th>\n",
       "      <td>?: A Question Mark</td>\n",
       "      <td>2012</td>\n",
       "      <td>82</td>\n",
       "      <td>Horror, Mystery, Thriller</td>\n",
       "      <td>5.6</td>\n",
       "      <td>326</td>\n",
       "      <td>Allyson Patel</td>\n",
       "      <td>Yash Dave</td>\n",
       "      <td>Muntazir Ahmad</td>\n",
       "      <td>Kiran Bhatia</td>\n",
       "      <td>Yash Dave, Muntazir Ahmad, Kiran Bhatia</td>\n",
       "      <td>135</td>\n",
       "      <td>320</td>\n",
       "      <td>5535</td>\n",
       "    </tr>\n",
       "  </tbody>\n",
       "</table>\n",
       "</div>"
      ],
      "text/plain": [
       "                                 Name  Year  Duration  \\\n",
       "1  #Gadhvi (He thought he was Gandhi)  2019       109   \n",
       "3                             #Yaaram  2019       110   \n",
       "5                ...Aur Pyaar Ho Gaya  1997       147   \n",
       "6                           ...Yahaan  2005       142   \n",
       "8                  ?: A Question Mark  2012        82   \n",
       "\n",
       "                       Genre  Rating  Votes        Director          Actor 1  \\\n",
       "1                      Drama     7.0      8   Gaurav Bakshi     Rasika Dugal   \n",
       "3            Comedy, Romance     4.4     35      Ovais Khan          Prateik   \n",
       "5     Comedy, Drama, Musical     4.7    827    Rahul Rawail       Bobby Deol   \n",
       "6        Drama, Romance, War     7.4   1086  Shoojit Sircar  Jimmy Sheirgill   \n",
       "8  Horror, Mystery, Thriller     5.6    326   Allyson Patel        Yash Dave   \n",
       "\n",
       "                  Actor 2          Actor 3  \\\n",
       "1          Vivek Ghamande    Arvind Jangid   \n",
       "3              Ishita Raj  Siddhant Kapoor   \n",
       "5  Aishwarya Rai Bachchan    Shammi Kapoor   \n",
       "6          Minissha Lamba   Yashpal Sharma   \n",
       "8          Muntazir Ahmad     Kiran Bhatia   \n",
       "\n",
       "                                               Actor  Directors  Genres  \\\n",
       "1        Rasika Dugal, Vivek Ghamande, Arvind Jangid        629     229   \n",
       "3               Prateik, Ishita Raj, Siddhant Kapoor       1334     184   \n",
       "5  Bobby Deol, Aishwarya Rai Bachchan, Shammi Kapoor       1527     157   \n",
       "6    Jimmy Sheirgill, Minissha Lamba, Yashpal Sharma       2037     289   \n",
       "8            Yash Dave, Muntazir Ahmad, Kiran Bhatia        135     320   \n",
       "\n",
       "   Actors  \n",
       "1    3858  \n",
       "3    3326  \n",
       "5    1112  \n",
       "6    2075  \n",
       "8    5535  "
      ]
     },
     "execution_count": 44,
     "metadata": {},
     "output_type": "execute_result"
    }
   ],
   "source": [
    "Q1 = movie_data['Actors'].quantile(0.25)\n",
    "Q3 = movie_data['Actors'].quantile(0.75)\n",
    "IQR = Q3 - Q1\n",
    "lower_bound = Q1 - 1.5 * IQR\n",
    "upper_bound = Q3 + 1.5 * IQR\n",
    "movie_data = movie_data[(movie_data['Actors'] >= lower_bound) & (movie_data['Actors'] <= upper_bound)]\n",
    "movie_data.head(5)"
   ]
  },
  {
   "cell_type": "markdown",
   "id": "1a605379",
   "metadata": {
    "papermill": {
     "duration": 0.034174,
     "end_time": "2023-08-24T06:50:54.440694",
     "exception": false,
     "start_time": "2023-08-24T06:50:54.406520",
     "status": "completed"
    },
    "tags": []
   },
   "source": [
    "**Splitting the data:-**"
   ]
  },
  {
   "cell_type": "code",
   "execution_count": 45,
   "id": "f3025931",
   "metadata": {
    "execution": {
     "iopub.execute_input": "2023-08-24T06:50:54.512797Z",
     "iopub.status.busy": "2023-08-24T06:50:54.511684Z",
     "iopub.status.idle": "2023-08-24T06:50:54.805804Z",
     "shell.execute_reply": "2023-08-24T06:50:54.804546Z"
    },
    "papermill": {
     "duration": 0.333506,
     "end_time": "2023-08-24T06:50:54.808585",
     "exception": false,
     "start_time": "2023-08-24T06:50:54.475079",
     "status": "completed"
    },
    "tags": []
   },
   "outputs": [],
   "source": [
    "from sklearn.model_selection import train_test_split"
   ]
  },
  {
   "cell_type": "code",
   "execution_count": 46,
   "id": "8ca628e0",
   "metadata": {
    "execution": {
     "iopub.execute_input": "2023-08-24T06:50:54.879082Z",
     "iopub.status.busy": "2023-08-24T06:50:54.878606Z",
     "iopub.status.idle": "2023-08-24T06:50:54.887460Z",
     "shell.execute_reply": "2023-08-24T06:50:54.886124Z"
    },
    "papermill": {
     "duration": 0.047373,
     "end_time": "2023-08-24T06:50:54.889835",
     "exception": false,
     "start_time": "2023-08-24T06:50:54.842462",
     "status": "completed"
    },
    "tags": []
   },
   "outputs": [],
   "source": [
    "Input = movie_data.drop(['Name', 'Genre', 'Rating', 'Director', 'Actor 1', 'Actor 2', 'Actor 3', 'Actor'], axis=1)\n",
    "Output = movie_data['Rating']"
   ]
  },
  {
   "cell_type": "code",
   "execution_count": 47,
   "id": "1693097e",
   "metadata": {
    "execution": {
     "iopub.execute_input": "2023-08-24T06:50:54.961366Z",
     "iopub.status.busy": "2023-08-24T06:50:54.960100Z",
     "iopub.status.idle": "2023-08-24T06:50:54.973035Z",
     "shell.execute_reply": "2023-08-24T06:50:54.971847Z"
    },
    "papermill": {
     "duration": 0.051697,
     "end_time": "2023-08-24T06:50:54.975877",
     "exception": false,
     "start_time": "2023-08-24T06:50:54.924180",
     "status": "completed"
    },
    "tags": []
   },
   "outputs": [
    {
     "data": {
      "text/html": [
       "<div>\n",
       "<style scoped>\n",
       "    .dataframe tbody tr th:only-of-type {\n",
       "        vertical-align: middle;\n",
       "    }\n",
       "\n",
       "    .dataframe tbody tr th {\n",
       "        vertical-align: top;\n",
       "    }\n",
       "\n",
       "    .dataframe thead th {\n",
       "        text-align: right;\n",
       "    }\n",
       "</style>\n",
       "<table border=\"1\" class=\"dataframe\">\n",
       "  <thead>\n",
       "    <tr style=\"text-align: right;\">\n",
       "      <th></th>\n",
       "      <th>Year</th>\n",
       "      <th>Duration</th>\n",
       "      <th>Votes</th>\n",
       "      <th>Directors</th>\n",
       "      <th>Genres</th>\n",
       "      <th>Actors</th>\n",
       "    </tr>\n",
       "  </thead>\n",
       "  <tbody>\n",
       "    <tr>\n",
       "      <th>1</th>\n",
       "      <td>2019</td>\n",
       "      <td>109</td>\n",
       "      <td>8</td>\n",
       "      <td>629</td>\n",
       "      <td>229</td>\n",
       "      <td>3858</td>\n",
       "    </tr>\n",
       "    <tr>\n",
       "      <th>3</th>\n",
       "      <td>2019</td>\n",
       "      <td>110</td>\n",
       "      <td>35</td>\n",
       "      <td>1334</td>\n",
       "      <td>184</td>\n",
       "      <td>3326</td>\n",
       "    </tr>\n",
       "    <tr>\n",
       "      <th>5</th>\n",
       "      <td>1997</td>\n",
       "      <td>147</td>\n",
       "      <td>827</td>\n",
       "      <td>1527</td>\n",
       "      <td>157</td>\n",
       "      <td>1112</td>\n",
       "    </tr>\n",
       "    <tr>\n",
       "      <th>6</th>\n",
       "      <td>2005</td>\n",
       "      <td>142</td>\n",
       "      <td>1086</td>\n",
       "      <td>2037</td>\n",
       "      <td>289</td>\n",
       "      <td>2075</td>\n",
       "    </tr>\n",
       "    <tr>\n",
       "      <th>8</th>\n",
       "      <td>2012</td>\n",
       "      <td>82</td>\n",
       "      <td>326</td>\n",
       "      <td>135</td>\n",
       "      <td>320</td>\n",
       "      <td>5535</td>\n",
       "    </tr>\n",
       "  </tbody>\n",
       "</table>\n",
       "</div>"
      ],
      "text/plain": [
       "   Year  Duration  Votes  Directors  Genres  Actors\n",
       "1  2019       109      8        629     229    3858\n",
       "3  2019       110     35       1334     184    3326\n",
       "5  1997       147    827       1527     157    1112\n",
       "6  2005       142   1086       2037     289    2075\n",
       "8  2012        82    326        135     320    5535"
      ]
     },
     "execution_count": 47,
     "metadata": {},
     "output_type": "execute_result"
    }
   ],
   "source": [
    "Input.head(5)"
   ]
  },
  {
   "cell_type": "code",
   "execution_count": 48,
   "id": "46f16284",
   "metadata": {
    "execution": {
     "iopub.execute_input": "2023-08-24T06:50:55.049997Z",
     "iopub.status.busy": "2023-08-24T06:50:55.049541Z",
     "iopub.status.idle": "2023-08-24T06:50:55.058021Z",
     "shell.execute_reply": "2023-08-24T06:50:55.057142Z"
    },
    "papermill": {
     "duration": 0.047098,
     "end_time": "2023-08-24T06:50:55.060366",
     "exception": false,
     "start_time": "2023-08-24T06:50:55.013268",
     "status": "completed"
    },
    "tags": []
   },
   "outputs": [
    {
     "data": {
      "text/plain": [
       "1    7.0\n",
       "3    4.4\n",
       "5    4.7\n",
       "6    7.4\n",
       "8    5.6\n",
       "Name: Rating, dtype: float64"
      ]
     },
     "execution_count": 48,
     "metadata": {},
     "output_type": "execute_result"
    }
   ],
   "source": [
    "Output.head(5)"
   ]
  },
  {
   "cell_type": "code",
   "execution_count": 49,
   "id": "a1902733",
   "metadata": {
    "execution": {
     "iopub.execute_input": "2023-08-24T06:50:55.132499Z",
     "iopub.status.busy": "2023-08-24T06:50:55.131749Z",
     "iopub.status.idle": "2023-08-24T06:50:55.139181Z",
     "shell.execute_reply": "2023-08-24T06:50:55.138146Z"
    },
    "papermill": {
     "duration": 0.046404,
     "end_time": "2023-08-24T06:50:55.141960",
     "exception": false,
     "start_time": "2023-08-24T06:50:55.095556",
     "status": "completed"
    },
    "tags": []
   },
   "outputs": [],
   "source": [
    "x_train, x_test, y_train, y_test = train_test_split(Input, Output, test_size = 0.2, random_state = 1)"
   ]
  },
  {
   "cell_type": "markdown",
   "id": "11f2cb1c",
   "metadata": {
    "papermill": {
     "duration": 0.034358,
     "end_time": "2023-08-24T06:50:55.211092",
     "exception": false,
     "start_time": "2023-08-24T06:50:55.176734",
     "status": "completed"
    },
    "tags": []
   },
   "source": [
    "**MODEL TRAINING:-**"
   ]
  },
  {
   "cell_type": "code",
   "execution_count": 50,
   "id": "bcaa2e06",
   "metadata": {
    "execution": {
     "iopub.execute_input": "2023-08-24T06:50:55.282263Z",
     "iopub.status.busy": "2023-08-24T06:50:55.281809Z",
     "iopub.status.idle": "2023-08-24T06:50:57.447038Z",
     "shell.execute_reply": "2023-08-24T06:50:57.445756Z"
    },
    "papermill": {
     "duration": 2.204569,
     "end_time": "2023-08-24T06:50:57.450275",
     "exception": false,
     "start_time": "2023-08-24T06:50:55.245706",
     "status": "completed"
    },
    "tags": []
   },
   "outputs": [],
   "source": [
    "from sklearn.linear_model import LinearRegression\n",
    "from sklearn.metrics import mean_squared_error, r2_score as score\n",
    "from sklearn.ensemble import RandomForestRegressor, GradientBoostingRegressor\n",
    "from sklearn.tree import DecisionTreeRegressor\n",
    "from xgboost import XGBRegressor\n",
    "from lightgbm import LGBMRegressor\n",
    "from catboost import CatBoostRegressor\n",
    "from sklearn.neighbors import KNeighborsRegressor\n",
    "from sklearn.svm import SVR"
   ]
  },
  {
   "cell_type": "code",
   "execution_count": 51,
   "id": "cabd0c0c",
   "metadata": {
    "execution": {
     "iopub.execute_input": "2023-08-24T06:50:57.526375Z",
     "iopub.status.busy": "2023-08-24T06:50:57.525552Z",
     "iopub.status.idle": "2023-08-24T06:50:57.532194Z",
     "shell.execute_reply": "2023-08-24T06:50:57.531308Z"
    },
    "papermill": {
     "duration": 0.045639,
     "end_time": "2023-08-24T06:50:57.534761",
     "exception": false,
     "start_time": "2023-08-24T06:50:57.489122",
     "status": "completed"
    },
    "tags": []
   },
   "outputs": [],
   "source": [
    "def evaluate_model(y_true, y_pred, model_name):\n",
    "    print(\"Model: \", model_name)\n",
    "    print(\"Accuracy = {:0.2f}%\".format(score(y_true, y_pred)*100))\n",
    "    print(\"Mean Squared Error = {:0.2f}\\n\".format(mean_squared_error(y_true, y_pred, squared=False)))\n",
    "    return round(score(y_true, y_pred)*100, 2)"
   ]
  },
  {
   "cell_type": "code",
   "execution_count": 52,
   "id": "a06d87a1",
   "metadata": {
    "execution": {
     "iopub.execute_input": "2023-08-24T06:50:57.606147Z",
     "iopub.status.busy": "2023-08-24T06:50:57.605699Z",
     "iopub.status.idle": "2023-08-24T06:51:02.224655Z",
     "shell.execute_reply": "2023-08-24T06:51:02.223185Z"
    },
    "papermill": {
     "duration": 4.657802,
     "end_time": "2023-08-24T06:51:02.227591",
     "exception": false,
     "start_time": "2023-08-24T06:50:57.569789",
     "status": "completed"
    },
    "tags": []
   },
   "outputs": [
    {
     "name": "stdout",
     "output_type": "stream",
     "text": [
      "[LightGBM] [Warning] Auto-choosing col-wise multi-threading, the overhead of testing was 0.000625 seconds.\n",
      "You can set `force_col_wise=true` to remove the overhead.\n",
      "[LightGBM] [Info] Total Bins 1209\n",
      "[LightGBM] [Info] Number of data points in the train set: 4505, number of used features: 6\n",
      "[LightGBM] [Info] Start training from score 5.919156\n"
     ]
    }
   ],
   "source": [
    "LR = LinearRegression()\n",
    "LR.fit(x_train, y_train)\n",
    "lr_preds = LR.predict(x_test)\n",
    "\n",
    "RFR = RandomForestRegressor(n_estimators=100, random_state=1)\n",
    "RFR.fit(x_train, y_train)\n",
    "rf_preds = RFR.predict(x_test)\n",
    "\n",
    "DTR = DecisionTreeRegressor(random_state=1)\n",
    "DTR.fit(x_train, y_train)\n",
    "dt_preds = DTR.predict(x_test)\n",
    "\n",
    "XGBR = XGBRegressor(n_estimators=100, random_state=1)\n",
    "XGBR.fit(x_train, y_train)\n",
    "xgb_preds = XGBR.predict(x_test)\n",
    "\n",
    "GBR = GradientBoostingRegressor(n_estimators=100, random_state=60)\n",
    "GBR.fit(x_train, y_train)\n",
    "gb_preds = GBR.predict(x_test)\n",
    "\n",
    "LGBMR = LGBMRegressor(n_estimators=100, random_state=60)\n",
    "LGBMR.fit(x_train, y_train)\n",
    "lgbm_preds = LGBMR.predict(x_test)\n",
    "\n",
    "CBR = CatBoostRegressor(n_estimators=100, random_state=1, verbose=False)\n",
    "CBR.fit(x_train, y_train)\n",
    "catboost_preds = CBR.predict(x_test)\n",
    "\n",
    "KNR = KNeighborsRegressor(n_neighbors=5)\n",
    "KNR.fit(x_train, y_train)\n",
    "knn_preds = KNR.predict(x_test)"
   ]
  },
  {
   "cell_type": "code",
   "execution_count": 53,
   "id": "b0ec19c4",
   "metadata": {
    "execution": {
     "iopub.execute_input": "2023-08-24T06:51:02.306860Z",
     "iopub.status.busy": "2023-08-24T06:51:02.306387Z",
     "iopub.status.idle": "2023-08-24T06:51:02.330704Z",
     "shell.execute_reply": "2023-08-24T06:51:02.329086Z"
    },
    "papermill": {
     "duration": 0.067535,
     "end_time": "2023-08-24T06:51:02.333716",
     "exception": false,
     "start_time": "2023-08-24T06:51:02.266181",
     "status": "completed"
    },
    "tags": []
   },
   "outputs": [
    {
     "name": "stdout",
     "output_type": "stream",
     "text": [
      "Model:  LINEAR REGRESSION\n",
      "Accuracy = -6.45%\n",
      "Mean Squared Error = 1.39\n",
      "\n",
      "Model:  RANDOM FOREST\n",
      "Accuracy = 35.41%\n",
      "Mean Squared Error = 1.09\n",
      "\n",
      "Model:  DECEISION TREE\n",
      "Accuracy = -27.77%\n",
      "Mean Squared Error = 1.53\n",
      "\n",
      "Model:  EXTENDED GRADIENT BOOSTING\n",
      "Accuracy = 34.81%\n",
      "Mean Squared Error = 1.09\n",
      "\n",
      "Model:  GRADIENT BOOSTING\n",
      "Accuracy = 38.04%\n",
      "Mean Squared Error = 1.06\n",
      "\n",
      "Model:  LIGHT GRADIENT BOOSTING\n",
      "Accuracy = 38.16%\n",
      "Mean Squared Error = 1.06\n",
      "\n",
      "Model:  CAT BOOST\n",
      "Accuracy = 35.86%\n",
      "Mean Squared Error = 1.08\n",
      "\n",
      "Model:  K NEAREST NEIGHBORS\n",
      "Accuracy = 3.03%\n",
      "Mean Squared Error = 1.33\n",
      "\n"
     ]
    }
   ],
   "source": [
    "LRScore = evaluate_model(y_test, lr_preds, \"LINEAR REGRESSION\")\n",
    "RFScore = evaluate_model(y_test, rf_preds, \"RANDOM FOREST\")\n",
    "DTScore = evaluate_model(y_test, dt_preds, \"DECEISION TREE\")\n",
    "XGBScore = evaluate_model(y_test, xgb_preds, \"EXTENDED GRADIENT BOOSTING\")\n",
    "GBScore = evaluate_model(y_test, gb_preds, \"GRADIENT BOOSTING\")\n",
    "LGBScore = evaluate_model(y_test, lgbm_preds, \"LIGHT GRADIENT BOOSTING\")\n",
    "CBRScore = evaluate_model(y_test, catboost_preds, \"CAT BOOST\")\n",
    "KNNScore = evaluate_model(y_test, knn_preds, \"K NEAREST NEIGHBORS\")"
   ]
  },
  {
   "cell_type": "code",
   "execution_count": 54,
   "id": "a80e8556",
   "metadata": {
    "execution": {
     "iopub.execute_input": "2023-08-24T06:51:02.407767Z",
     "iopub.status.busy": "2023-08-24T06:51:02.407298Z",
     "iopub.status.idle": "2023-08-24T06:51:02.423756Z",
     "shell.execute_reply": "2023-08-24T06:51:02.422274Z"
    },
    "papermill": {
     "duration": 0.057016,
     "end_time": "2023-08-24T06:51:02.426775",
     "exception": false,
     "start_time": "2023-08-24T06:51:02.369759",
     "status": "completed"
    },
    "tags": []
   },
   "outputs": [
    {
     "data": {
      "text/html": [
       "<div>\n",
       "<style scoped>\n",
       "    .dataframe tbody tr th:only-of-type {\n",
       "        vertical-align: middle;\n",
       "    }\n",
       "\n",
       "    .dataframe tbody tr th {\n",
       "        vertical-align: top;\n",
       "    }\n",
       "\n",
       "    .dataframe thead th {\n",
       "        text-align: right;\n",
       "    }\n",
       "</style>\n",
       "<table border=\"1\" class=\"dataframe\">\n",
       "  <thead>\n",
       "    <tr style=\"text-align: right;\">\n",
       "      <th></th>\n",
       "      <th>MODELS</th>\n",
       "      <th>SCORES</th>\n",
       "    </tr>\n",
       "  </thead>\n",
       "  <tbody>\n",
       "    <tr>\n",
       "      <th>5</th>\n",
       "      <td>Light Gradient Boosting</td>\n",
       "      <td>38.16</td>\n",
       "    </tr>\n",
       "    <tr>\n",
       "      <th>3</th>\n",
       "      <td>Gradient Boosting</td>\n",
       "      <td>38.04</td>\n",
       "    </tr>\n",
       "    <tr>\n",
       "      <th>6</th>\n",
       "      <td>Cat Boosting</td>\n",
       "      <td>35.86</td>\n",
       "    </tr>\n",
       "    <tr>\n",
       "      <th>1</th>\n",
       "      <td>Random Forest</td>\n",
       "      <td>35.41</td>\n",
       "    </tr>\n",
       "    <tr>\n",
       "      <th>4</th>\n",
       "      <td>Extended Gradient Boosting</td>\n",
       "      <td>34.81</td>\n",
       "    </tr>\n",
       "    <tr>\n",
       "      <th>7</th>\n",
       "      <td>K Nearest Neighbors</td>\n",
       "      <td>3.03</td>\n",
       "    </tr>\n",
       "    <tr>\n",
       "      <th>0</th>\n",
       "      <td>Linear Regression</td>\n",
       "      <td>-6.45</td>\n",
       "    </tr>\n",
       "    <tr>\n",
       "      <th>2</th>\n",
       "      <td>Decision Tree</td>\n",
       "      <td>-27.77</td>\n",
       "    </tr>\n",
       "  </tbody>\n",
       "</table>\n",
       "</div>"
      ],
      "text/plain": [
       "                       MODELS  SCORES\n",
       "5     Light Gradient Boosting   38.16\n",
       "3           Gradient Boosting   38.04\n",
       "6                Cat Boosting   35.86\n",
       "1               Random Forest   35.41\n",
       "4  Extended Gradient Boosting   34.81\n",
       "7         K Nearest Neighbors    3.03\n",
       "0           Linear Regression   -6.45\n",
       "2               Decision Tree  -27.77"
      ]
     },
     "execution_count": 54,
     "metadata": {},
     "output_type": "execute_result"
    }
   ],
   "source": [
    "models = pd.DataFrame(\n",
    "    {\n",
    "        \"MODELS\": [\"Linear Regression\", \"Random Forest\", \"Decision Tree\", \"Gradient Boosting\", \"Extended Gradient Boosting\", \"Light Gradient Boosting\", \"Cat Boosting\", \"K Nearest Neighbors\"],\n",
    "        \"SCORES\": [LRScore, RFScore, DTScore, GBScore, XGBScore, LGBScore, CBRScore, KNNScore]\n",
    "    }\n",
    ")\n",
    "models.sort_values(by='SCORES', ascending=False)"
   ]
  }
 ],
 "metadata": {
  "kernelspec": {
   "display_name": "Python 3",
   "language": "python",
   "name": "python3"
  },
  "language_info": {
   "codemirror_mode": {
    "name": "ipython",
    "version": 3
   },
   "file_extension": ".py",
   "mimetype": "text/x-python",
   "name": "python",
   "nbconvert_exporter": "python",
   "pygments_lexer": "ipython3",
   "version": "3.11.4"
  },
  "papermill": {
   "default_parameters": {},
   "duration": 34.302046,
   "end_time": "2023-08-24T06:51:03.857737",
   "environment_variables": {},
   "exception": null,
   "input_path": "__notebook__.ipynb",
   "output_path": "__notebook__.ipynb",
   "parameters": {},
   "start_time": "2023-08-24T06:50:29.555691",
   "version": "2.4.0"
  }
 },
 "nbformat": 4,
 "nbformat_minor": 5
}
